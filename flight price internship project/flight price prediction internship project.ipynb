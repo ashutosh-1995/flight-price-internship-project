{
 "cells": [
  {
   "cell_type": "code",
   "execution_count": 1,
   "id": "25c58eb7",
   "metadata": {},
   "outputs": [],
   "source": [
    "import numpy as np\n",
    "import pandas as pd\n",
    "import matplotlib.pyplot as plt\n",
    "import seaborn as sns\n",
    "from sklearn.model_selection import train_test_split, GridSearchCV\n",
    "from sklearn.preprocessing import StandardScaler\n",
    "from sklearn.linear_model import LinearRegression\n",
    "from sklearn.tree import DecisionTreeRegressor\n",
    "from sklearn.ensemble import RandomForestRegressor, BaggingRegressor, AdaBoostRegressor, GradientBoostingRegressor\n",
    "from sklearn.svm import SVR\n",
    "from sklearn import metrics\n",
    "import pickle\n",
    "import warnings\n",
    "warnings.filterwarnings('ignore')"
   ]
  },
  {
   "cell_type": "code",
   "execution_count": 2,
   "id": "8bf1e6d2",
   "metadata": {},
   "outputs": [
    {
     "data": {
      "text/html": [
       "<div>\n",
       "<style scoped>\n",
       "    .dataframe tbody tr th:only-of-type {\n",
       "        vertical-align: middle;\n",
       "    }\n",
       "\n",
       "    .dataframe tbody tr th {\n",
       "        vertical-align: top;\n",
       "    }\n",
       "\n",
       "    .dataframe thead th {\n",
       "        text-align: right;\n",
       "    }\n",
       "</style>\n",
       "<table border=\"1\" class=\"dataframe\">\n",
       "  <thead>\n",
       "    <tr style=\"text-align: right;\">\n",
       "      <th></th>\n",
       "      <th>Unnamed: 0</th>\n",
       "      <th>Airline Name</th>\n",
       "      <th>Source</th>\n",
       "      <th>Departure Time</th>\n",
       "      <th>Destination</th>\n",
       "      <th>Arrival Time</th>\n",
       "      <th>Stops</th>\n",
       "      <th>Duration</th>\n",
       "      <th>Flight Price</th>\n",
       "    </tr>\n",
       "  </thead>\n",
       "  <tbody>\n",
       "    <tr>\n",
       "      <th>0</th>\n",
       "      <td>0</td>\n",
       "      <td>Go First</td>\n",
       "      <td>New Delhi</td>\n",
       "      <td>15:00</td>\n",
       "      <td>Mumbai</td>\n",
       "      <td>17:00</td>\n",
       "      <td>Non Stop</td>\n",
       "      <td>2h 00m</td>\n",
       "      <td>7,320</td>\n",
       "    </tr>\n",
       "    <tr>\n",
       "      <th>1</th>\n",
       "      <td>1</td>\n",
       "      <td>Air India</td>\n",
       "      <td>New Delhi</td>\n",
       "      <td>18:00</td>\n",
       "      <td>Mumbai</td>\n",
       "      <td>20:00</td>\n",
       "      <td>Non Stop</td>\n",
       "      <td>2h 00m</td>\n",
       "      <td>7,320</td>\n",
       "    </tr>\n",
       "    <tr>\n",
       "      <th>2</th>\n",
       "      <td>2</td>\n",
       "      <td>Air India</td>\n",
       "      <td>New Delhi</td>\n",
       "      <td>07:00</td>\n",
       "      <td>Mumbai</td>\n",
       "      <td>09:05</td>\n",
       "      <td>Non Stop</td>\n",
       "      <td>2h 05m</td>\n",
       "      <td>7,320</td>\n",
       "    </tr>\n",
       "    <tr>\n",
       "      <th>3</th>\n",
       "      <td>3</td>\n",
       "      <td>Air Asia</td>\n",
       "      <td>New Delhi</td>\n",
       "      <td>04:25</td>\n",
       "      <td>Mumbai</td>\n",
       "      <td>06:35</td>\n",
       "      <td>Non Stop</td>\n",
       "      <td>2h 10m</td>\n",
       "      <td>7,320</td>\n",
       "    </tr>\n",
       "    <tr>\n",
       "      <th>4</th>\n",
       "      <td>4</td>\n",
       "      <td>Vistara</td>\n",
       "      <td>New Delhi</td>\n",
       "      <td>05:45</td>\n",
       "      <td>Mumbai</td>\n",
       "      <td>07:55</td>\n",
       "      <td>Non Stop</td>\n",
       "      <td>2h 10m</td>\n",
       "      <td>7,320</td>\n",
       "    </tr>\n",
       "  </tbody>\n",
       "</table>\n",
       "</div>"
      ],
      "text/plain": [
       "   Unnamed: 0 Airline Name     Source Departure Time Destination Arrival Time  \\\n",
       "0           0     Go First  New Delhi          15:00      Mumbai        17:00   \n",
       "1           1    Air India  New Delhi          18:00      Mumbai        20:00   \n",
       "2           2    Air India  New Delhi          07:00      Mumbai        09:05   \n",
       "3           3     Air Asia  New Delhi          04:25      Mumbai        06:35   \n",
       "4           4      Vistara  New Delhi          05:45      Mumbai        07:55   \n",
       "\n",
       "      Stops Duration Flight Price  \n",
       "0  Non Stop   2h 00m        7,320  \n",
       "1  Non Stop   2h 00m        7,320  \n",
       "2  Non Stop   2h 05m        7,320  \n",
       "3  Non Stop   2h 10m        7,320  \n",
       "4  Non Stop   2h 10m        7,320  "
      ]
     },
     "execution_count": 2,
     "metadata": {},
     "output_type": "execute_result"
    }
   ],
   "source": [
    "price = pd.read_csv('flight_price.csv')\n",
    "price.head()"
   ]
  },
  {
   "cell_type": "code",
   "execution_count": 3,
   "id": "5bcff392",
   "metadata": {},
   "outputs": [],
   "source": [
    "price.drop(['Unnamed: 0'], axis= 1, inplace= True)"
   ]
  },
  {
   "cell_type": "code",
   "execution_count": 4,
   "id": "e805fb7c",
   "metadata": {},
   "outputs": [
    {
     "name": "stdout",
     "output_type": "stream",
     "text": [
      "<class 'pandas.core.frame.DataFrame'>\n",
      "RangeIndex: 1568 entries, 0 to 1567\n",
      "Data columns (total 8 columns):\n",
      " #   Column          Non-Null Count  Dtype \n",
      "---  ------          --------------  ----- \n",
      " 0   Airline Name    1568 non-null   object\n",
      " 1   Source          1568 non-null   object\n",
      " 2   Departure Time  1568 non-null   object\n",
      " 3   Destination     1568 non-null   object\n",
      " 4   Arrival Time    1568 non-null   object\n",
      " 5   Stops           1568 non-null   object\n",
      " 6   Duration        1568 non-null   object\n",
      " 7   Flight Price    1568 non-null   object\n",
      "dtypes: object(8)\n",
      "memory usage: 98.1+ KB\n"
     ]
    }
   ],
   "source": [
    "price.info()"
   ]
  },
  {
   "cell_type": "code",
   "execution_count": 13,
   "id": "3836e8d5",
   "metadata": {},
   "outputs": [
    {
     "data": {
      "text/plain": [
       "array(['7,320', '7,530', '7,845', '8,160', '8,266', '8,580', '8,895',\n",
       "       '9,263', '9,463', '9,683', '9,840', '10,680', '10,995', '11,100',\n",
       "       '11,153', '11,402', '11,520', '11,585', '11,730', '11,940',\n",
       "       '12,098', '12,298', '12,360', '12,570', '13,095', '13,200',\n",
       "       '13,305', '13,401', '13,410', '13,821', '13,830', '13,935',\n",
       "       '14,002', '14,040', '14,145', '14,565', '14,670', '14,933',\n",
       "       '14,985', '15,090', '15,195', '15,300', '15,343', '15,405',\n",
       "       '15,510', '15,720', '15,930', '16,350', '17,295', '18,855',\n",
       "       '20,341', '21,075', '22,319', '8,423', '8,764', '8,790', '9,368',\n",
       "       '9,420', '10,050', '11,179', '11,353', '12,045', '12,203',\n",
       "       '12,518', '12,886', '12,931', '12,990', '13,515', '13,579',\n",
       "       '13,594', '13,620', '13,725', '13,751', '13,778', '14,250',\n",
       "       '14,618', '14,775', '14,801', '14,880', '15,825', '16,193',\n",
       "       '16,665', '16,770', '16,928', '17,425', '17,662', '17,925',\n",
       "       '17,978', '18,030', '18,417', '18,942', '19,815', '21,050',\n",
       "       '22,388', '23,884', '8,370', '8,685', '9,609', '10,533', '11,457',\n",
       "       '12,255', '12,469', '14,619', '15,777', '16,387', '16,412',\n",
       "       '17,296', '18,240', '18,555', '19,089', '19,509', '19,835',\n",
       "       '19,854', '20,874', '21,294', '22,164', '22,512', '24,177',\n",
       "       '7,971', '8,029', '8,622', '10,260', '10,470', '10,890', '10,969',\n",
       "       '11,323', '11,877', '12,885', '12,938', '13,148', '13,988',\n",
       "       '14,438', '14,513', '15,456', '16,055', '16,560', '17,215',\n",
       "       '17,348', '17,453', '17,558', '17,742', '18,913', '19,910',\n",
       "       '20,340', '20,445', '21,495', '23,280', '7,308', '7,518', '7,728',\n",
       "       '7,833', '7,938', '8,148', '8,568', '8,883', '9,093', '9,094',\n",
       "       '9,828', '10,773', '10,983', '11,403', '11,508', '11,928',\n",
       "       '11,981', '12,286', '12,558', '12,768', '12,769', '12,873',\n",
       "       '13,556', '13,640', '13,923', '14,028', '14,133', '14,238',\n",
       "       '14,396', '14,448', '14,527', '14,606', '14,658', '14,763',\n",
       "       '14,921', '14,973', '15,051', '15,078', '15,131', '15,183',\n",
       "       '15,288', '15,498', '15,551', '15,708', '15,918', '15,971',\n",
       "       '16,023', '16,128', '16,679', '17,126', '17,283', '17,309',\n",
       "       '17,493', '17,808', '18,176', '18,228', '18,963', '19,068',\n",
       "       '19,803', '21,798', '22,113', '22,166', '26,418', '26,449',\n",
       "       '26,601', '6,258', '6,574', '6,657', '6,678', '7,056', '7,098',\n",
       "       '7,413', '7,854', '8,253', '8,674', '9,201', '9,450', '9,461',\n",
       "       '9,779', '10,143', '10,248', '10,563', '10,647', '10,703',\n",
       "       '10,721', '11,298', '11,445', '11,456', '11,627', '11,844',\n",
       "       '12,611', '12,782', '12,914', '13,147', '13,717', '13,819',\n",
       "       '13,871', '13,926', '13,976', '14,501', '14,504', '14,947',\n",
       "       '15,324', '16,101', '16,233', '16,916', '17,021', '17,546',\n",
       "       '17,623', '17,782', '18,018', '18,858', '19,712', '29,392',\n",
       "       '29,970', '31,818', '9,408', '9,933', '10,458', '11,088', '12,243',\n",
       "       '12,348', '13,937', '16,968', '18,543', '18,662', '19,278',\n",
       "       '19,488', '20,538', '20,643', '21,168', '22,428', '24,423',\n",
       "       '25,053', '25,263', '25,368', '27,258', '27,363', '31,091',\n",
       "       '34,128', '5,102', '5,103', '5,104', '5,261', '5,838', '6,154',\n",
       "       '10,459', '10,616', '10,826', '10,876', '11,036', '12,361',\n",
       "       '12,716', '12,979', '13,092', '13,188', '13,293', '13,451',\n",
       "       '14,136', '14,343', '14,556', '14,711', '14,841', '14,868',\n",
       "       '14,877', '16,155', '16,338', '16,811', '16,863', '20,118',\n",
       "       '21,063', '22,638', '26,891', '7,586', '8,274', '8,361', '8,379',\n",
       "       '8,589', '8,904', '9,087', '9,114', '9,833', '9,954', '12,422',\n",
       "       '12,894', '13,045', '13,682', '13,787', '13,944', '14,312',\n",
       "       '14,942', '15,152', '15,624', '15,649', '15,808', '15,991',\n",
       "       '16,047', '16,464', '16,674', '16,763', '16,884', '16,989',\n",
       "       '17,304', '17,409', '17,514', '18,039', '18,459', '18,595',\n",
       "       '19,824', '19,929', '20,244', '20,769', '21,277', '21,347',\n",
       "       '21,924', '21,944', '22,364', '22,375', '22,446', '22,747',\n",
       "       '23,079', '23,167', '23,204', '23,604', '24,007', '24,449',\n",
       "       '25,852', '26,229', '26,597', '27,965', '28,329', '30,114',\n",
       "       '31,463', '8,384', '8,694', '9,324', '9,534', '9,912', '10,426',\n",
       "       '10,584', '11,529', '11,739', '12,632', '12,746', '13,419',\n",
       "       '13,566', '13,638', '13,734', '13,865', '14,021', '14,049',\n",
       "       '14,531', '14,574', '14,784', '14,967', '15,204', '15,414',\n",
       "       '15,423', '15,625', '16,044', '16,254', '16,677', '16,779',\n",
       "       '16,858', '16,898', '16,937', '17,197', '17,277', '17,429',\n",
       "       '17,829', '17,934', '18,011', '18,386', '18,986', '19,991',\n",
       "       '21,536', '21,833', '23,709', '24,234', '24,245', '26,019',\n",
       "       '26,544', '29,379', '7,511', '7,849', '7,959', '9,009', '9,207',\n",
       "       '9,733', '10,059', '10,374', '11,214', '12,054', '13,014',\n",
       "       '13,460', '13,581', '13,759', '14,174', '14,259', '14,263',\n",
       "       '14,977', '14,994', '15,066', '15,491', '15,834', '16,149',\n",
       "       '17,693', '18,302', '18,564', '18,774', '18,937', '18,984',\n",
       "       '19,142', '19,404', '20,034', '20,381', '20,411', '20,454',\n",
       "       '20,559', '20,883', '21,242', '21,461', '21,986', '22,116',\n",
       "       '23,456', '23,964', '23,984', '24,602', '24,759', '25,284',\n",
       "       '25,494', '27,594', '28,592', '30,244', '7,544', '8,484', '9,430',\n",
       "       '9,744', '10,794', '13,157', '15,467', '15,517', '15,870',\n",
       "       '16,307', '17,357', '19,614', '19,676', '21,098', '21,609',\n",
       "       '22,344', '22,554', '23,036', '23,394', '26,334', '26,859',\n",
       "       '27,804', '33,622', '7,615', '10,899', '11,004', '11,634',\n",
       "       '12,212', '12,924', '13,728', '15,362', '16,043', '16,437',\n",
       "       '16,569', '17,471', '17,724', '18,512', '18,899', '19,247',\n",
       "       '19,256', '19,791', '20,664', '23,184', '23,289', '24,033'],\n",
       "      dtype=object)"
      ]
     },
     "execution_count": 13,
     "metadata": {},
     "output_type": "execute_result"
    }
   ],
   "source": [
    "price['Flight Price'].unique()"
   ]
  },
  {
   "cell_type": "code",
   "execution_count": 14,
   "id": "7f2cf642",
   "metadata": {},
   "outputs": [],
   "source": [
    "price['Flight Price'] = price['Flight Price'].str.replace(',','')"
   ]
  },
  {
   "cell_type": "code",
   "execution_count": 16,
   "id": "193d5fa5",
   "metadata": {},
   "outputs": [],
   "source": [
    "price['Flight Price'] = pd.to_numeric(price['Flight Price'])"
   ]
  },
  {
   "cell_type": "code",
   "execution_count": 17,
   "id": "867b2ba3",
   "metadata": {},
   "outputs": [
    {
     "name": "stdout",
     "output_type": "stream",
     "text": [
      "<class 'pandas.core.frame.DataFrame'>\n",
      "RangeIndex: 1568 entries, 0 to 1567\n",
      "Data columns (total 8 columns):\n",
      " #   Column          Non-Null Count  Dtype \n",
      "---  ------          --------------  ----- \n",
      " 0   Airline Name    1568 non-null   object\n",
      " 1   Source          1568 non-null   object\n",
      " 2   Departure Time  1568 non-null   object\n",
      " 3   Destination     1568 non-null   object\n",
      " 4   Arrival Time    1568 non-null   object\n",
      " 5   Stops           1568 non-null   object\n",
      " 6   Duration        1568 non-null   object\n",
      " 7   Flight Price    1568 non-null   int64 \n",
      "dtypes: int64(1), object(7)\n",
      "memory usage: 98.1+ KB\n"
     ]
    }
   ],
   "source": [
    "price.info()"
   ]
  },
  {
   "cell_type": "code",
   "execution_count": 18,
   "id": "078c5fd8",
   "metadata": {},
   "outputs": [
    {
     "data": {
      "text/plain": [
       "(1568, 8)"
      ]
     },
     "execution_count": 18,
     "metadata": {},
     "output_type": "execute_result"
    }
   ],
   "source": [
    "price.shape"
   ]
  },
  {
   "cell_type": "code",
   "execution_count": 19,
   "id": "efde35c3",
   "metadata": {},
   "outputs": [
    {
     "data": {
      "text/html": [
       "<div>\n",
       "<style scoped>\n",
       "    .dataframe tbody tr th:only-of-type {\n",
       "        vertical-align: middle;\n",
       "    }\n",
       "\n",
       "    .dataframe tbody tr th {\n",
       "        vertical-align: top;\n",
       "    }\n",
       "\n",
       "    .dataframe thead th {\n",
       "        text-align: right;\n",
       "    }\n",
       "</style>\n",
       "<table border=\"1\" class=\"dataframe\">\n",
       "  <thead>\n",
       "    <tr style=\"text-align: right;\">\n",
       "      <th></th>\n",
       "      <th>Flight Price</th>\n",
       "    </tr>\n",
       "  </thead>\n",
       "  <tbody>\n",
       "    <tr>\n",
       "      <th>count</th>\n",
       "      <td>1568.000000</td>\n",
       "    </tr>\n",
       "    <tr>\n",
       "      <th>mean</th>\n",
       "      <td>13182.484694</td>\n",
       "    </tr>\n",
       "    <tr>\n",
       "      <th>std</th>\n",
       "      <td>5353.256982</td>\n",
       "    </tr>\n",
       "    <tr>\n",
       "      <th>min</th>\n",
       "      <td>5102.000000</td>\n",
       "    </tr>\n",
       "    <tr>\n",
       "      <th>25%</th>\n",
       "      <td>8160.000000</td>\n",
       "    </tr>\n",
       "    <tr>\n",
       "      <th>50%</th>\n",
       "      <td>12931.000000</td>\n",
       "    </tr>\n",
       "    <tr>\n",
       "      <th>75%</th>\n",
       "      <td>16150.500000</td>\n",
       "    </tr>\n",
       "    <tr>\n",
       "      <th>max</th>\n",
       "      <td>34128.000000</td>\n",
       "    </tr>\n",
       "  </tbody>\n",
       "</table>\n",
       "</div>"
      ],
      "text/plain": [
       "       Flight Price\n",
       "count   1568.000000\n",
       "mean   13182.484694\n",
       "std     5353.256982\n",
       "min     5102.000000\n",
       "25%     8160.000000\n",
       "50%    12931.000000\n",
       "75%    16150.500000\n",
       "max    34128.000000"
      ]
     },
     "execution_count": 19,
     "metadata": {},
     "output_type": "execute_result"
    }
   ],
   "source": [
    "price.describe()"
   ]
  },
  {
   "cell_type": "code",
   "execution_count": 20,
   "id": "e436d595",
   "metadata": {},
   "outputs": [
    {
     "data": {
      "text/plain": [
       "Airline Name      0\n",
       "Source            0\n",
       "Departure Time    0\n",
       "Destination       0\n",
       "Arrival Time      0\n",
       "Stops             0\n",
       "Duration          0\n",
       "Flight Price      0\n",
       "dtype: int64"
      ]
     },
     "execution_count": 20,
     "metadata": {},
     "output_type": "execute_result"
    }
   ],
   "source": [
    "price.isnull().sum()"
   ]
  },
  {
   "cell_type": "markdown",
   "id": "c11d0755",
   "metadata": {},
   "source": [
    "1. Airline Name"
   ]
  },
  {
   "cell_type": "code",
   "execution_count": 21,
   "id": "6add537b",
   "metadata": {},
   "outputs": [
    {
     "data": {
      "text/plain": [
       "array(['Go First', 'Air India', 'Air Asia', 'Vistara', 'IndiGo',\n",
       "       'SpiceJet'], dtype=object)"
      ]
     },
     "execution_count": 21,
     "metadata": {},
     "output_type": "execute_result"
    }
   ],
   "source": [
    "price['Airline Name'].unique()"
   ]
  },
  {
   "cell_type": "code",
   "execution_count": 22,
   "id": "74d7bbc7",
   "metadata": {},
   "outputs": [
    {
     "data": {
      "image/png": "[encoded data removed]",
      "text/plain": [
       "<Figure size 1080x1080 with 2 Axes>"
      ]
     },
     "metadata": {
      "needs_background": "light"
     },
     "output_type": "display_data"
    }
   ],
   "source": [
    "plt.figure(figsize= [15,15])\n",
    "plt.subplot(221)\n",
    "sns.countplot(price['Airline Name'])\n",
    "plt.xlabel('Airline Name')\n",
    "plt.xticks(rotation= 90)\n",
    "plt.subplot(222)\n",
    "sns.boxplot(x= 'Airline Name', y= 'Flight Price', data= price)\n",
    "plt.xlabel('Airline Name')\n",
    "plt.xticks(rotation= 90)\n",
    "plt.ylabel('Flight Price')\n",
    "plt.show()"
   ]
  },
  {
   "cell_type": "markdown",
   "id": "83eed674",
   "metadata": {},
   "source": [
    "2. Source"
   ]
  },
  {
   "cell_type": "code",
   "execution_count": 23,
   "id": "9a6f6664",
   "metadata": {},
   "outputs": [
    {
     "data": {
      "text/plain": [
       "array(['New Delhi', 'Mumbai', 'Kolkata'], dtype=object)"
      ]
     },
     "execution_count": 23,
     "metadata": {},
     "output_type": "execute_result"
    }
   ],
   "source": [
    "price['Source'].unique()"
   ]
  },
  {
   "cell_type": "code",
   "execution_count": 24,
   "id": "645ae8f1",
   "metadata": {},
   "outputs": [
    {
     "data": {
      "image/png": "[encoded data removed]",
      "text/plain": [
       "<Figure size 1080x1080 with 2 Axes>"
      ]
     },
     "metadata": {
      "needs_background": "light"
     },
     "output_type": "display_data"
    }
   ],
   "source": [
    "plt.figure(figsize= [15,15])\n",
    "plt.subplot(221)\n",
    "sns.countplot(price['Source'])\n",
    "plt.xlabel('Source')\n",
    "plt.xticks(rotation= 90)\n",
    "plt.subplot(222)\n",
    "sns.boxplot(x= 'Source', y= 'Flight Price', data= price)\n",
    "plt.xlabel('Source')\n",
    "plt.xticks(rotation= 90)\n",
    "plt.ylabel('Flight Price')\n",
    "plt.show()"
   ]
  },
  {
   "cell_type": "markdown",
   "id": "bd3e7d30",
   "metadata": {},
   "source": [
    "3. Departure Time"
   ]
  },
  {
   "cell_type": "code",
   "execution_count": 25,
   "id": "32968422",
   "metadata": {},
   "outputs": [
    {
     "data": {
      "text/plain": [
       "array(['15:00', '18:00', '07:00', '04:25', '05:45', '06:30', '07:15',\n",
       "       '08:00', '08:10', '10:40', '11:15', '12:00', '12:50', '14:20',\n",
       "       '15:30', '17:15', '18:40', '18:55', '20:00', '22:30', '23:35',\n",
       "       '07:05', '09:00', '10:20', '13:00', '16:00', '19:00', '20:45',\n",
       "       '21:00', '21:15', '08:50', '10:45', '11:40', '16:45', '17:45',\n",
       "       '19:45', '04:45', '09:30', '22:00', '10:30', '17:50', '08:20',\n",
       "       '07:20', '10:50', '06:00', '12:40', '12:20', '15:45', '21:50',\n",
       "       '19:50', '20:40', '07:30', '18:30', '12:55', '18:35', '22:15',\n",
       "       '20:20', '09:05', '05:55', '13:15', '21:20', '07:50', '10:00',\n",
       "       '19:20', '14:05', '10:15', '17:10', '13:50', '11:55', '17:55',\n",
       "       '06:05', '13:40', '05:30', '10:55', '07:25', '05:50', '10:25',\n",
       "       '14:45', '12:45', '17:25', '17:00', '05:15', '16:05', '06:10',\n",
       "       '17:20', '17:40', '11:30', '05:35', '06:50', '20:35', '08:05',\n",
       "       '07:45', '14:15', '09:15', '11:50', '05:10', '09:35', '04:15',\n",
       "       '18:20', '19:55', '21:25', '22:50', '07:55', '06:45', '11:00',\n",
       "       '09:40', '16:35', '19:30', '02:30', '12:30', '23:25', '16:20',\n",
       "       '14:00', '17:35', '15:25', '10:05', '08:40', '13:25', '21:45',\n",
       "       '23:10', '16:15', '16:50', '14:30', '02:15', '14:40', '09:25',\n",
       "       '12:10', '15:10', '11:10', '05:40', '20:30', '23:05', '08:30',\n",
       "       '18:45', '08:35', '17:30', '13:45', '13:30', '12:35', '07:10',\n",
       "       '13:20', '19:35', '05:00', '09:20', '15:50', '20:15', '22:40',\n",
       "       '22:45', '09:55', '14:10', '21:30', '21:55', '23:45', '18:10',\n",
       "       '19:25', '20:10', '15:20', '13:05', '20:25', '22:20', '12:25',\n",
       "       '15:35', '08:15', '12:15', '00:10', '20:55', '05:05', '06:20',\n",
       "       '09:50', '15:05', '05:20', '08:55', '19:15', '08:45', '19:05',\n",
       "       '11:25', '01:15', '16:40', '18:50', '04:50', '06:15', '04:55',\n",
       "       '16:25', '16:10', '15:15', '06:55', '11:05', '16:55', '11:35',\n",
       "       '04:35', '09:45', '19:40', '16:30', '18:05', '21:40', '23:40',\n",
       "       '06:40', '14:50', '07:40', '23:15', '18:25', '13:55', '04:00',\n",
       "       '10:10', '23:20', '09:10', '19:10', '21:05', '15:40', '07:35',\n",
       "       '04:40', '14:25'], dtype=object)"
      ]
     },
     "execution_count": 25,
     "metadata": {},
     "output_type": "execute_result"
    }
   ],
   "source": [
    "price['Departure Time'].unique()"
   ]
  },
  {
   "cell_type": "code",
   "execution_count": 26,
   "id": "6e3bb8ff",
   "metadata": {},
   "outputs": [],
   "source": [
    "a = []\n",
    "for i in price['Departure Time']:\n",
    "    i = i[:2]\n",
    "    a.append(i)"
   ]
  },
  {
   "cell_type": "code",
   "execution_count": 28,
   "id": "3835adef",
   "metadata": {},
   "outputs": [],
   "source": [
    "price['Departure Time'] = pd.Series(a)"
   ]
  },
  {
   "cell_type": "code",
   "execution_count": 29,
   "id": "5111af3f",
   "metadata": {},
   "outputs": [
    {
     "data": {
      "text/plain": [
       "array(['15', '18', '07', '04', '05', '06', '08', '10', '11', '12', '14',\n",
       "       '17', '20', '22', '23', '09', '13', '16', '19', '21', '02', '00',\n",
       "       '01'], dtype=object)"
      ]
     },
     "execution_count": 29,
     "metadata": {},
     "output_type": "execute_result"
    }
   ],
   "source": [
    "price['Departure Time'].unique()"
   ]
  },
  {
   "cell_type": "code",
   "execution_count": 30,
   "id": "1e603384",
   "metadata": {},
   "outputs": [
    {
     "data": {
      "image/png": "[encoded data removed]",
      "text/plain": [
       "<Figure size 1080x1080 with 2 Axes>"
      ]
     },
     "metadata": {
      "needs_background": "light"
     },
     "output_type": "display_data"
    }
   ],
   "source": [
    "plt.figure(figsize= [15,15])\n",
    "plt.subplot(221)\n",
    "sns.countplot(price['Departure Time'])\n",
    "plt.xlabel('Departure Time')\n",
    "plt.xticks(rotation= 90)\n",
    "plt.subplot(222)\n",
    "sns.boxplot(x= 'Departure Time', y= 'Flight Price', data= price)\n",
    "plt.xlabel('Departure Time')\n",
    "plt.xticks(rotation= 90)\n",
    "plt.ylabel('Flight Price')\n",
    "plt.show()"
   ]
  },
  {
   "cell_type": "markdown",
   "id": "220eda1e",
   "metadata": {},
   "source": [
    "4. Destination"
   ]
  },
  {
   "cell_type": "code",
   "execution_count": 31,
   "id": "fe315040",
   "metadata": {},
   "outputs": [
    {
     "data": {
      "text/plain": [
       "array(['Mumbai', 'Bangalore', 'Chennai', 'Hyderabad', 'New Delhi'],\n",
       "      dtype=object)"
      ]
     },
     "execution_count": 31,
     "metadata": {},
     "output_type": "execute_result"
    }
   ],
   "source": [
    "price['Destination'].unique()"
   ]
  },
  {
   "cell_type": "code",
   "execution_count": 32,
   "id": "6d97b81f",
   "metadata": {},
   "outputs": [
    {
     "data": {
      "image/png": "[encoded data removed]",
      "text/plain": [
       "<Figure size 1080x1080 with 2 Axes>"
      ]
     },
     "metadata": {
      "needs_background": "light"
     },
     "output_type": "display_data"
    }
   ],
   "source": [
    "plt.figure(figsize= [15,15])\n",
    "plt.subplot(221)\n",
    "sns.countplot(price['Destination'])\n",
    "plt.xlabel('Destination')\n",
    "plt.xticks(rotation= 90)\n",
    "plt.subplot(222)\n",
    "sns.boxplot(x= 'Destination', y= 'Flight Price', data= price)\n",
    "plt.xlabel('Destination')\n",
    "plt.xticks(rotation= 90)\n",
    "plt.ylabel('Flight Price')\n",
    "plt.show()"
   ]
  },
  {
   "cell_type": "markdown",
   "id": "2d5c55e9",
   "metadata": {},
   "source": [
    "5. Arrival Time"
   ]
  },
  {
   "cell_type": "code",
   "execution_count": 33,
   "id": "34e37d13",
   "metadata": {},
   "outputs": [
    {
     "data": {
      "text/plain": [
       "array(['17:00', '20:00', '09:05', '06:35', '07:55', '08:40', '09:10',\n",
       "       '09:25', '10:10', '10:20', '12:50', '13:25', '14:10', '15:00',\n",
       "       '16:30', '17:40', '19:25', '20:50', '21:05', '22:10',\n",
       "       '00:40\\n+ 1 day', '01:45\\n+ 1 day', '09:20', '11:15', '12:35',\n",
       "       '15:15', '16:35', '18:15', '21:15', '23:00', '23:15', '23:30',\n",
       "       '11:10', '13:05', '14:00', '19:05', '20:05', '22:05', '07:10',\n",
       "       '12:00', '02:00\\n+ 1 day', '14:35', '22:15', '00:35\\n+ 1 day',\n",
       "       '02:25\\n+ 1 day', '18:20', '14:45', '07:15\\n+ 1 day',\n",
       "       '07:40\\n+ 1 day', '17:30\\n+ 1 day', '11:35', '23:55', '22:00',\n",
       "       '22:50', '09:45', '23:25', '05:55\\n+ 1 day', '13:15', '18:50',\n",
       "       '17:50', '07:05\\n+ 1 day', '08:25\\n+ 1 day', '23:05', '12:25',\n",
       "       '08:15\\n+ 1 day', '19:40', '10:35\\n+ 1 day', '17:55', '22:25',\n",
       "       '11:30\\n+ 1 day', '16:25', '15:50', '15:50\\n+ 1 day',\n",
       "       '15:15\\n+ 1 day', '10:55', '16:05', '08:20\\n+ 1 day',\n",
       "       '00:10\\n+ 1 day', '10:00\\n+ 1 day', '14:30', '19:50', '20:45',\n",
       "       '13:35\\n+ 1 day', '14:30\\n+ 1 day', '12:25\\n+ 1 day', '10:05',\n",
       "       '21:50', '08:35\\n+ 1 day', '21:35', '11:25', '20:15', '19:15',\n",
       "       '18:10', '07:50', '08:50', '10:40', '20:40', '23:20', '08:55',\n",
       "       '12:15', '21:25', '23:35', '12:10', '00:20\\n+ 1 day', '18:30',\n",
       "       '15:10', '02:35\\n+ 1 day', '13:20', '23:40', '11:50', '14:40',\n",
       "       '19:35', '19:20', '12:20', '14:20', '03:00\\n+ 1 day',\n",
       "       '09:45\\n+ 1 day', '09:00\\n+ 1 day', '05:25', '15:25', '19:00',\n",
       "       '06:55\\n+ 1 day', '22:45', '10:50', '11:40', '21:45', '20:25',\n",
       "       '22:30', '19:30', '08:50\\n+ 1 day', '18:30\\n+ 1 day', '17:45',\n",
       "       '07:50\\n+ 1 day', '18:15\\n+ 1 day', '08:55\\n+ 1 day', '16:40',\n",
       "       '01:50\\n+ 1 day', '17:55\\n+ 1 day', '19:30\\n+ 1 day', '21:40',\n",
       "       '16:00\\n+ 1 day', '10:45', '15:40', '22:40', '22:30\\n+ 1 day',\n",
       "       '14:25\\n+ 1 day', '19:10', '11:10\\n+ 1 day', '16:00', '20:55',\n",
       "       '16:40\\n+ 1 day', '08:15', '01:55\\n+ 1 day', '13:45', '17:25',\n",
       "       '07:45\\n+ 1 day', '08:30\\n+ 1 day', '21:20\\n+ 1 day',\n",
       "       '07:55\\n+ 1 day', '15:05', '10:25', '15:55', '16:20',\n",
       "       '00:25\\n+ 1 day', '08:20', '09:55', '23:45', '07:20\\n+ 1 day',\n",
       "       '00:25\\n+ 2 days', '19:55', '21:20', '23:05\\n+ 1 day',\n",
       "       '23:30\\n+ 1 day', '09:55\\n+ 1 day', '10:55\\n+ 1 day',\n",
       "       '13:30\\n+ 1 day', '13:30', '13:10', '09:00', '11:55', '07:40',\n",
       "       '15:35', '12:40', '10:50\\n+ 1 day', '01:35\\n+ 1 day', '11:00',\n",
       "       '09:40', '17:35', '22:55', '06:45\\n+ 1 day', '12:15\\n+ 1 day',\n",
       "       '19:00\\n+ 1 day', '20:55\\n+ 1 day', '20:15\\n+ 1 day',\n",
       "       '09:05\\n+ 1 day', '08:05\\n+ 1 day', '09:50\\n+ 1 day',\n",
       "       '20:50\\n+ 1 day', '08:00', '07:05', '09:50', '20:35', '22:35',\n",
       "       '08:10', '11:30', '18:00', '20:10', '00:50\\n+ 1 day',\n",
       "       '00:55\\n+ 1 day', '00:00\\n+ 1 day', '03:20\\n+ 1 day', '16:50',\n",
       "       '02:10\\n+ 1 day', '00:05\\n+ 1 day', '01:20\\n+ 1 day', '09:30',\n",
       "       '08:05', '08:35', '14:05', '19:45', '16:55', '18:05', '10:35',\n",
       "       '21:55', '16:15', '16:45', '16:30\\n+ 1 day', '10:30', '06:40',\n",
       "       '16:10', '20:20', '09:40\\n+ 1 day', '10:40\\n+ 1 day',\n",
       "       '13:00\\n+ 1 day', '06:40\\n+ 1 day', '03:40\\n+ 1 day', '13:00',\n",
       "       '15:20', '20:30', '16:15\\n+ 1 day', '13:50\\n+ 1 day', '13:40',\n",
       "       '15:40\\n+ 1 day', '19:55\\n+ 1 day', '23:00\\n+ 1 day', '17:05',\n",
       "       '23:10', '02:50', '18:55', '11:20', '08:40\\n+ 1 day',\n",
       "       '06:25\\n+ 1 day', '08:30', '00:10\\n+ 2 days', '12:30\\n+ 1 day',\n",
       "       '14:55\\n+ 1 day', '17:30', '03:45\\n+ 1 day', '11:50\\n+ 1 day',\n",
       "       '09:15', '22:15\\n+ 1 day', '06:30', '17:10', '01:00\\n+ 1 day',\n",
       "       '07:20', '12:30', '17:15', '08:00\\n+ 1 day', '23:50',\n",
       "       '12:40\\n+ 1 day', '08:10\\n+ 1 day', '07:35', '18:35',\n",
       "       '08:45\\n+ 1 day', '21:05\\n+ 1 day', '01:15\\n+ 1 day',\n",
       "       '12:35\\n+ 1 day', '15:45', '10:30\\n+ 1 day', '03:45', '12:55',\n",
       "       '14:55', '18:45', '10:10\\n+ 1 day', '12:10\\n+ 1 day', '21:10',\n",
       "       '13:50', '09:35', '17:20', '10:15\\n+ 1 day', '20:35\\n+ 1 day',\n",
       "       '23:55\\n+ 1 day', '11:20\\n+ 1 day', '14:05\\n+ 1 day',\n",
       "       '11:00\\n+ 1 day', '15:55\\n+ 1 day', '19:05\\n+ 1 day',\n",
       "       '14:40\\n+ 1 day', '23:45\\n+ 1 day', '20:30\\n+ 1 day',\n",
       "       '19:50\\n+ 1 day', '18:40', '03:35\\n+ 1 day', '18:40\\n+ 1 day',\n",
       "       '00:45\\n+ 1 day', '06:50', '07:45', '06:35\\n+ 1 day',\n",
       "       '09:35\\n+ 1 day', '04:15\\n+ 1 day', '22:05\\n+ 1 day',\n",
       "       '23:50\\n+ 1 day', '11:35\\n+ 1 day', '14:00\\n+ 1 day',\n",
       "       '10:05\\n+ 1 day', '11:15\\n+ 1 day', '12:50\\n+ 1 day',\n",
       "       '20:00\\n+ 1 day', '14:45\\n+ 1 day', '21:15\\n+ 1 day',\n",
       "       '13:25\\n+ 1 day', '17:05\\n+ 1 day', '02:20\\n+ 1 day', '15:30',\n",
       "       '10:00', '12:05', '18:25', '17:45\\n+ 1 day', '21:30',\n",
       "       '21:25\\n+ 1 day', '10:45\\n+ 1 day', '19:15\\n+ 1 day',\n",
       "       '19:10\\n+ 1 day', '20:05\\n+ 1 day', '10:25\\n+ 1 day',\n",
       "       '16:20\\n+ 1 day', '23:35\\n+ 1 day', '11:45', '06:45', '21:00',\n",
       "       '01:30\\n+ 1 day', '22:20', '03:50\\n+ 1 day', '17:00\\n+ 1 day'],\n",
       "      dtype=object)"
      ]
     },
     "execution_count": 33,
     "metadata": {},
     "output_type": "execute_result"
    }
   ],
   "source": [
    "price['Arrival Time'].unique()"
   ]
  },
  {
   "cell_type": "code",
   "execution_count": 38,
   "id": "b9344d8f",
   "metadata": {},
   "outputs": [],
   "source": [
    "price['Arrival Time'] = price['Arrival Time'].str.replace('1 day','')"
   ]
  },
  {
   "cell_type": "code",
   "execution_count": 40,
   "id": "2c9a5668",
   "metadata": {},
   "outputs": [],
   "source": [
    "a = []\n",
    "for i in price['Arrival Time']:\n",
    "    i = i[:2]\n",
    "    a.append(i)"
   ]
  },
  {
   "cell_type": "code",
   "execution_count": 42,
   "id": "de47b2b3",
   "metadata": {},
   "outputs": [],
   "source": [
    "price['Arrival Time'] = pd.Series(a)"
   ]
  },
  {
   "cell_type": "code",
   "execution_count": 43,
   "id": "369b7345",
   "metadata": {},
   "outputs": [
    {
     "data": {
      "text/plain": [
       "array(['17', '20', '09', '06', '07', '08', '10', '12', '13', '14', '15',\n",
       "       '16', '19', '21', '22', '00', '01', '11', '18', '23', '02', '05',\n",
       "       '03', '04'], dtype=object)"
      ]
     },
     "execution_count": 43,
     "metadata": {},
     "output_type": "execute_result"
    }
   ],
   "source": [
    "price['Arrival Time'].unique()"
   ]
  },
  {
   "cell_type": "code",
   "execution_count": 44,
   "id": "33bb42a8",
   "metadata": {},
   "outputs": [
    {
     "data": {
      "image/png": "[encoded data removed]",
      "text/plain": [
       "<Figure size 1080x1080 with 2 Axes>"
      ]
     },
     "metadata": {
      "needs_background": "light"
     },
     "output_type": "display_data"
    }
   ],
   "source": [
    "plt.figure(figsize= [15,15])\n",
    "plt.subplot(221)\n",
    "sns.countplot(price['Arrival Time'])\n",
    "plt.xlabel('Arrival Time')\n",
    "plt.xticks(rotation= 90)\n",
    "plt.subplot(222)\n",
    "sns.boxplot(x= 'Arrival Time', y= 'Flight Price', data= price)\n",
    "plt.xlabel('Arrival Time')\n",
    "plt.xticks(rotation= 90)\n",
    "plt.ylabel('Flight Price')\n",
    "plt.show()"
   ]
  },
  {
   "cell_type": "markdown",
   "id": "c6121e90",
   "metadata": {},
   "source": [
    "6. Stops"
   ]
  },
  {
   "cell_type": "code",
   "execution_count": 45,
   "id": "1359209c",
   "metadata": {},
   "outputs": [
    {
     "data": {
      "text/plain": [
       "array(['Non Stop', '1 Stop', '3 Stop(s)', '2 Stop(s)'], dtype=object)"
      ]
     },
     "execution_count": 45,
     "metadata": {},
     "output_type": "execute_result"
    }
   ],
   "source": [
    "price['Stops'].unique()"
   ]
  },
  {
   "cell_type": "code",
   "execution_count": 46,
   "id": "0207a98e",
   "metadata": {},
   "outputs": [
    {
     "data": {
      "image/png": "[encoded data removed]",
      "text/plain": [
       "<Figure size 1080x1080 with 2 Axes>"
      ]
     },
     "metadata": {
      "needs_background": "light"
     },
     "output_type": "display_data"
    }
   ],
   "source": [
    "plt.figure(figsize= [15,15])\n",
    "plt.subplot(221)\n",
    "sns.countplot(price['Stops'])\n",
    "plt.xlabel('Stops')\n",
    "plt.xticks(rotation= 90)\n",
    "plt.subplot(222)\n",
    "sns.boxplot(x= 'Stops', y= 'Flight Price', data= price)\n",
    "plt.xlabel('Stops')\n",
    "plt.xticks(rotation= 90)\n",
    "plt.ylabel('Flight Price')\n",
    "plt.show()"
   ]
  },
  {
   "cell_type": "markdown",
   "id": "16733da0",
   "metadata": {},
   "source": [
    "7. Duration"
   ]
  },
  {
   "cell_type": "code",
   "execution_count": 47,
   "id": "6e2e1c60",
   "metadata": {},
   "outputs": [
    {
     "data": {
      "text/plain": [
       "array(['2h 00m', '2h 05m', '2h 10m', '2h 15m', '2h 20m', '2h 25m',\n",
       "       '2h 30m', '4h 00m', '4h 05m', '4h 25m', '5h 35m', '5h 50m',\n",
       "       '6h 25m', '6h 35m', '7h 15m', '7h 30m', '8h 10m', '8h 45m',\n",
       "       '10h 30m', '11h 40m', '12h 15m', '13h 15m', '13h 45m', '14h 05m',\n",
       "       '25h 45m', '4h 55m', '10h 20m', '7h 40m', '9h 35m', '4h 10m',\n",
       "       '17h 30m', '8h 20m', '4h 35m', '9h 45m', '10h 10m', '17h 10m',\n",
       "       '10h 25m', '9h 40m', '15h 15m', '3h 50m', '18h 20m', '21h 40m',\n",
       "       '3h 55m', '5h 20m', '20h 50m', '25h 35m', '5h 25m', '5h 40m',\n",
       "       '8h 40m', '10h 15m', '21h 25m', '23h 35m', '7h 00m', '19h 15m',\n",
       "       '26h 30m', '6h 00m', '8h 00m', '12h 35m', '20h 10m', '23h 45m',\n",
       "       '24h 50m', '8h 15m', '15h 30m', '10h 00m', '19h 25m', '4h 50m',\n",
       "       '5h 45m', '7h 20m', '11h 20m', '11h 35m', '14h 55m', '15h 55m',\n",
       "       '16h 10m', '23h 05m', '26h 25m', '7h 45m', '5h 30m', '16h 20m',\n",
       "       '7h 35m', '15h 10m', '14h 20m', '14h 50m', '13h 25m', '12h 45m',\n",
       "       '6h 20m', '17h 55m', '4h 40m', '9h 10m', '11h 10m', '12h 10m',\n",
       "       '12h 40m', '8h 50m', '8h 55m', '10h 05m', '2h 40m', '2h 45m',\n",
       "       '2h 50m', '2h 55m', '3h 00m', '4h 20m', '5h 15m', '6h 30m',\n",
       "       '6h 40m', '7h 25m', '7h 50m', '8h 30m', '8h 35m', '9h 05m',\n",
       "       '10h 40m', '10h 55m', '11h 15m', '11h 45m', '13h 30m', '5h 10m',\n",
       "       '16h 40m', '21h 00m', '5h 05m', '9h 20m', '22h 25m', '33h 50m',\n",
       "       '4h 45m', '7h 05m', '12h 00m', '18h 05m', '25h 20m', '6h 05m',\n",
       "       '9h 30m', '11h 30m', '25h 05m', '22h 30m', '23h 30m', '15h 05m',\n",
       "       '19h 00m', '27h 25m', '25h 50m', '7h 10m', '21h 20m', '5h 00m',\n",
       "       '11h 00m', '22h 55m', '6h 15m', '13h 40m', '24h 30m', '24h 20m',\n",
       "       '23h 15m', '25h 30m', '2h 35m', '9h 15m', '9h 25m', '10h 45m',\n",
       "       '14h 30m', '26h 45m', '5h 55m', '6h 10m', '7h 55m', '22h 40m',\n",
       "       '25h 25m', '11h 25m', '12h 20m', '13h 20m', '14h 15m', '17h 20m',\n",
       "       '22h 20m', '23h 20m', '26h 40m', '13h 35m', '11h 05m', '14h 10m',\n",
       "       '16h 05m', '33h 45m', '29h 55m', '33h 15m', '27h 00m', '12h 55m',\n",
       "       '16h 55m', '25h 55m', '26h 55m', '41h 10m', '31h 00m', '12h 25m',\n",
       "       '19h 40m', '16h 45m', '13h 50m', '12h 05m', '18h 30m', '19h 30m',\n",
       "       '20h 45m', '21h 55m', '23h 00m', '21h 45m', '25h 40m', '8h 05m',\n",
       "       '10h 35m', '14h 25m', '15h 00m', '24h 15m', '15h 35m', '11h 50m',\n",
       "       '12h 50m', '31h 35m', '27h 10m', '17h 00m', '24h 00m', '27h 45m',\n",
       "       '31h 05m', '18h 50m', '27h 20m', '6h 50m', '13h 10m', '17h 35m',\n",
       "       '9h 50m', '27h 05m', '1h 50m', '4h 30m', '6h 55m', '10h 50m',\n",
       "       '1h 55m', '3h 45m', '24h 25m', '26h 10m', '17h 40m', '18h 40m',\n",
       "       '20h 15m', '23h 25m', '27h 30m', '16h 30m', '9h 55m', '22h 35m',\n",
       "       '16h 25m', '17h 45m', '28h 15m', '4h 15m', '20h 20m', '24h 35m',\n",
       "       '22h 15m', '11h 55m', '6h 45m', '13h 00m', '1h 35m', '1h 40m',\n",
       "       '1h 45m', '16h 15m', '14h 40m', '17h 25m', '14h 45m', '22h 05m',\n",
       "       '24h 10m', '13h 55m', '29h 10m', '18h 45m', '21h 15m', '24h 45m',\n",
       "       '20h 55m', '24h 40m', '13h 05m', '3h 40m', '29h 35m', '26h 00m',\n",
       "       '36h 10m', '25h 00m', '28h 35m', '32h 20m', '9h 00m', '26h 35m',\n",
       "       '21h 30m', '15h 25m', '14h 00m', '15h 40m', '18h 35m', '8h 25m',\n",
       "       '1h 20m', '1h 25m', '1h 30m', '26h 15m', '24h 05m', '3h 25m',\n",
       "       '17h 05m', '22h 45m', '25h 15m', '26h 05m', '16h 50m', '16h 00m',\n",
       "       '22h 10m', '34h 05m', '24h 55m', '23h 55m', '28h 00m', '26h 50m',\n",
       "       '23h 10m', '20h 05m', '21h 50m', '22h 00m', '29h 45m', '28h 20m',\n",
       "       '15h 50m', '19h 55m', '21h 10m', '27h 40m', '29h 30m', '19h 45m',\n",
       "       '27h 15m', '32h 00m', '35h 05m', '31h 30m', '27h 50m', '32h 55m',\n",
       "       '16h 35m', '12h 30m', '21h 35m', '23h 40m', '18h 15m', '23h 50m',\n",
       "       '17h 50m', '26h 20m', '20h 35m', '25h 10m', '15h 45m', '14h 35m'],\n",
       "      dtype=object)"
      ]
     },
     "execution_count": 47,
     "metadata": {},
     "output_type": "execute_result"
    }
   ],
   "source": [
    "price['Duration'].unique()"
   ]
  },
  {
   "cell_type": "code",
   "execution_count": 48,
   "id": "5bb72e1a",
   "metadata": {},
   "outputs": [],
   "source": [
    "a = []\n",
    "for i in price['Duration']:\n",
    "    i = i[:2]\n",
    "    a.append(i)"
   ]
  },
  {
   "cell_type": "code",
   "execution_count": 50,
   "id": "218e7358",
   "metadata": {},
   "outputs": [],
   "source": [
    "price['Duration'] = pd.Series(a)"
   ]
  },
  {
   "cell_type": "code",
   "execution_count": 51,
   "id": "3a209e6d",
   "metadata": {},
   "outputs": [
    {
     "data": {
      "text/plain": [
       "array(['2h', '4h', '5h', '6h', '7h', '8h', '10', '11', '12', '13', '14',\n",
       "       '25', '9h', '17', '15', '3h', '18', '21', '20', '23', '19', '26',\n",
       "       '24', '16', '22', '33', '27', '29', '41', '31', '1h', '28', '36',\n",
       "       '32', '34', '35'], dtype=object)"
      ]
     },
     "execution_count": 51,
     "metadata": {},
     "output_type": "execute_result"
    }
   ],
   "source": [
    "price['Duration'].unique()"
   ]
  },
  {
   "cell_type": "code",
   "execution_count": 52,
   "id": "5d835941",
   "metadata": {},
   "outputs": [],
   "source": [
    "price['Duration'] = price['Duration'].str.replace('h','')"
   ]
  },
  {
   "cell_type": "code",
   "execution_count": 53,
   "id": "5d070700",
   "metadata": {},
   "outputs": [
    {
     "data": {
      "text/plain": [
       "array(['2', '4', '5', '6', '7', '8', '10', '11', '12', '13', '14', '25',\n",
       "       '9', '17', '15', '3', '18', '21', '20', '23', '19', '26', '24',\n",
       "       '16', '22', '33', '27', '29', '41', '31', '1', '28', '36', '32',\n",
       "       '34', '35'], dtype=object)"
      ]
     },
     "execution_count": 53,
     "metadata": {},
     "output_type": "execute_result"
    }
   ],
   "source": [
    "price['Duration'].unique()"
   ]
  },
  {
   "cell_type": "code",
   "execution_count": 54,
   "id": "c1ce3b22",
   "metadata": {},
   "outputs": [
    {
     "data": {
      "image/png": "[encoded data removed]",
      "text/plain": [
       "<Figure size 1080x1080 with 2 Axes>"
      ]
     },
     "metadata": {
      "needs_background": "light"
     },
     "output_type": "display_data"
    }
   ],
   "source": [
    "plt.figure(figsize= [15,15])\n",
    "plt.subplot(221)\n",
    "sns.countplot(price['Duration'])\n",
    "plt.xlabel('Duration')\n",
    "plt.xticks(rotation= 90)\n",
    "plt.subplot(222)\n",
    "sns.boxplot(x= 'Duration', y= 'Flight Price', data= price)\n",
    "plt.xlabel('Duration')\n",
    "plt.xticks(rotation= 90)\n",
    "plt.ylabel('Flight Price')\n",
    "plt.show()"
   ]
  },
  {
   "cell_type": "code",
   "execution_count": 55,
   "id": "71622408",
   "metadata": {},
   "outputs": [
    {
     "name": "stdout",
     "output_type": "stream",
     "text": [
      "<class 'pandas.core.frame.DataFrame'>\n",
      "RangeIndex: 1568 entries, 0 to 1567\n",
      "Data columns (total 8 columns):\n",
      " #   Column          Non-Null Count  Dtype \n",
      "---  ------          --------------  ----- \n",
      " 0   Airline Name    1568 non-null   object\n",
      " 1   Source          1568 non-null   object\n",
      " 2   Departure Time  1568 non-null   object\n",
      " 3   Destination     1568 non-null   object\n",
      " 4   Arrival Time    1568 non-null   object\n",
      " 5   Stops           1568 non-null   object\n",
      " 6   Duration        1568 non-null   object\n",
      " 7   Flight Price    1568 non-null   int64 \n",
      "dtypes: int64(1), object(7)\n",
      "memory usage: 98.1+ KB\n"
     ]
    }
   ],
   "source": [
    "price.info()"
   ]
  },
  {
   "cell_type": "code",
   "execution_count": 56,
   "id": "d802c387",
   "metadata": {},
   "outputs": [
    {
     "data": {
      "text/plain": [
       "array(['Go First', 'Air India', 'Air Asia', 'Vistara', 'IndiGo',\n",
       "       'SpiceJet'], dtype=object)"
      ]
     },
     "execution_count": 56,
     "metadata": {},
     "output_type": "execute_result"
    }
   ],
   "source": [
    "price['Airline Name'].unique()"
   ]
  },
  {
   "cell_type": "code",
   "execution_count": 57,
   "id": "37670a56",
   "metadata": {},
   "outputs": [],
   "source": [
    "price['Airline Name'] = price['Airline Name'].replace(['Go First', 'Air India', 'Air Asia', 'Vistara', 'IndiGo',\n",
    "                                                       'SpiceJet'],[0,1,2,3,4,5])"
   ]
  },
  {
   "cell_type": "code",
   "execution_count": 58,
   "id": "4b7aa7df",
   "metadata": {},
   "outputs": [
    {
     "data": {
      "text/plain": [
       "array(['New Delhi', 'Mumbai', 'Kolkata'], dtype=object)"
      ]
     },
     "execution_count": 58,
     "metadata": {},
     "output_type": "execute_result"
    }
   ],
   "source": [
    "price['Source'].unique()"
   ]
  },
  {
   "cell_type": "code",
   "execution_count": 59,
   "id": "a209fd60",
   "metadata": {},
   "outputs": [],
   "source": [
    "price['Source'] = price['Source'].replace(['New Delhi', 'Mumbai', 'Kolkata'],[0,1,2])"
   ]
  },
  {
   "cell_type": "code",
   "execution_count": 60,
   "id": "20615c61",
   "metadata": {},
   "outputs": [
    {
     "data": {
      "text/plain": [
       "array(['15', '18', '07', '04', '05', '06', '08', '10', '11', '12', '14',\n",
       "       '17', '20', '22', '23', '09', '13', '16', '19', '21', '02', '00',\n",
       "       '01'], dtype=object)"
      ]
     },
     "execution_count": 60,
     "metadata": {},
     "output_type": "execute_result"
    }
   ],
   "source": [
    "price['Departure Time'].unique()"
   ]
  },
  {
   "cell_type": "code",
   "execution_count": 61,
   "id": "c3375dcb",
   "metadata": {},
   "outputs": [],
   "source": [
    "price['Departure Time'] = pd.to_numeric(price['Departure Time'])"
   ]
  },
  {
   "cell_type": "code",
   "execution_count": 62,
   "id": "ec649994",
   "metadata": {},
   "outputs": [
    {
     "data": {
      "text/plain": [
       "array(['Mumbai', 'Bangalore', 'Chennai', 'Hyderabad', 'New Delhi'],\n",
       "      dtype=object)"
      ]
     },
     "execution_count": 62,
     "metadata": {},
     "output_type": "execute_result"
    }
   ],
   "source": [
    "price['Destination'].unique()"
   ]
  },
  {
   "cell_type": "code",
   "execution_count": 63,
   "id": "28dafe55",
   "metadata": {},
   "outputs": [],
   "source": [
    "price['Destination'] = price['Destination'].replace(['Mumbai', 'Bangalore', 'Chennai', 'Hyderabad', 'New Delhi'],[0,1,2,3,4])"
   ]
  },
  {
   "cell_type": "code",
   "execution_count": 64,
   "id": "cd141a21",
   "metadata": {},
   "outputs": [
    {
     "data": {
      "text/plain": [
       "array(['17', '20', '09', '06', '07', '08', '10', '12', '13', '14', '15',\n",
       "       '16', '19', '21', '22', '00', '01', '11', '18', '23', '02', '05',\n",
       "       '03', '04'], dtype=object)"
      ]
     },
     "execution_count": 64,
     "metadata": {},
     "output_type": "execute_result"
    }
   ],
   "source": [
    "price['Arrival Time'].unique()"
   ]
  },
  {
   "cell_type": "code",
   "execution_count": 65,
   "id": "e1e7d824",
   "metadata": {},
   "outputs": [],
   "source": [
    "price['Arrival Time'] = pd.to_numeric(price['Arrival Time'])"
   ]
  },
  {
   "cell_type": "code",
   "execution_count": 66,
   "id": "6568e607",
   "metadata": {},
   "outputs": [
    {
     "data": {
      "text/plain": [
       "array(['Non Stop', '1 Stop', '3 Stop(s)', '2 Stop(s)'], dtype=object)"
      ]
     },
     "execution_count": 66,
     "metadata": {},
     "output_type": "execute_result"
    }
   ],
   "source": [
    "price['Stops'].unique()"
   ]
  },
  {
   "cell_type": "code",
   "execution_count": 67,
   "id": "186fc085",
   "metadata": {},
   "outputs": [],
   "source": [
    "price['Stops'] = price['Stops'].replace(['Non Stop', '1 Stop', '3 Stop(s)', '2 Stop(s)'],\n",
    "                                        [0,1,2,3])"
   ]
  },
  {
   "cell_type": "code",
   "execution_count": 68,
   "id": "022ceb15",
   "metadata": {},
   "outputs": [
    {
     "data": {
      "text/plain": [
       "array(['2', '4', '5', '6', '7', '8', '10', '11', '12', '13', '14', '25',\n",
       "       '9', '17', '15', '3', '18', '21', '20', '23', '19', '26', '24',\n",
       "       '16', '22', '33', '27', '29', '41', '31', '1', '28', '36', '32',\n",
       "       '34', '35'], dtype=object)"
      ]
     },
     "execution_count": 68,
     "metadata": {},
     "output_type": "execute_result"
    }
   ],
   "source": [
    "price['Duration'].unique()"
   ]
  },
  {
   "cell_type": "code",
   "execution_count": 69,
   "id": "200d8898",
   "metadata": {},
   "outputs": [],
   "source": [
    "price['Duration'] = pd.to_numeric(price['Duration'])"
   ]
  },
  {
   "cell_type": "code",
   "execution_count": 70,
   "id": "26bf71f1",
   "metadata": {},
   "outputs": [
    {
     "name": "stdout",
     "output_type": "stream",
     "text": [
      "<class 'pandas.core.frame.DataFrame'>\n",
      "RangeIndex: 1568 entries, 0 to 1567\n",
      "Data columns (total 8 columns):\n",
      " #   Column          Non-Null Count  Dtype\n",
      "---  ------          --------------  -----\n",
      " 0   Airline Name    1568 non-null   int64\n",
      " 1   Source          1568 non-null   int64\n",
      " 2   Departure Time  1568 non-null   int64\n",
      " 3   Destination     1568 non-null   int64\n",
      " 4   Arrival Time    1568 non-null   int64\n",
      " 5   Stops           1568 non-null   int64\n",
      " 6   Duration        1568 non-null   int64\n",
      " 7   Flight Price    1568 non-null   int64\n",
      "dtypes: int64(8)\n",
      "memory usage: 98.1 KB\n"
     ]
    }
   ],
   "source": [
    "price.info()"
   ]
  },
  {
   "cell_type": "code",
   "execution_count": 71,
   "id": "0716885b",
   "metadata": {},
   "outputs": [
    {
     "data": {
      "image/png": "[encoded data removed]",
      "text/plain": [
       "<Figure size 1080x1080 with 2 Axes>"
      ]
     },
     "metadata": {
      "needs_background": "light"
     },
     "output_type": "display_data"
    }
   ],
   "source": [
    "plt.figure(figsize= [15,15])\n",
    "sns.heatmap(price.corr(), annot= True)\n",
    "plt.show()"
   ]
  },
  {
   "cell_type": "code",
   "execution_count": 72,
   "id": "e86685b6",
   "metadata": {},
   "outputs": [],
   "source": [
    "price.drop(['Destination'], axis= 1, inplace= True)"
   ]
  },
  {
   "cell_type": "code",
   "execution_count": 73,
   "id": "3ff5f712",
   "metadata": {},
   "outputs": [],
   "source": [
    "X = price.drop(['Flight Price'], axis= 1)\n",
    "y = price['Flight Price']"
   ]
  },
  {
   "cell_type": "code",
   "execution_count": 74,
   "id": "197b70e9",
   "metadata": {},
   "outputs": [],
   "source": [
    "X_train, X_test, y_train, y_test = train_test_split(X, y, test_size= 0.2, random_state= 147)"
   ]
  },
  {
   "cell_type": "code",
   "execution_count": 77,
   "id": "068e2635",
   "metadata": {},
   "outputs": [],
   "source": [
    "scaler = StandardScaler()"
   ]
  },
  {
   "cell_type": "code",
   "execution_count": 78,
   "id": "b7e9e85b",
   "metadata": {},
   "outputs": [],
   "source": [
    "scaledX_train = scaler.fit_transform(X_train)\n",
    "scaledX_test = scaler.transform(X_test)"
   ]
  },
  {
   "cell_type": "code",
   "execution_count": 79,
   "id": "125cec1a",
   "metadata": {},
   "outputs": [],
   "source": [
    "lr = LinearRegression()\n",
    "lrf = GridSearchCV(lr, param_grid= {'n_jobs': [1,2,3,4,5]}, scoring= 'r2', cv= 5)"
   ]
  },
  {
   "cell_type": "code",
   "execution_count": 80,
   "id": "e78ebfd2",
   "metadata": {},
   "outputs": [
    {
     "data": {
      "text/plain": [
       "GridSearchCV(cv=5, estimator=LinearRegression(),\n",
       "             param_grid={'n_jobs': [1, 2, 3, 4, 5]}, scoring='r2')"
      ]
     },
     "execution_count": 80,
     "metadata": {},
     "output_type": "execute_result"
    }
   ],
   "source": [
    "lrf.fit(scaledX_train, y_train)"
   ]
  },
  {
   "cell_type": "code",
   "execution_count": 81,
   "id": "861c7023",
   "metadata": {},
   "outputs": [
    {
     "data": {
      "text/plain": [
       "{'n_jobs': 1}"
      ]
     },
     "execution_count": 81,
     "metadata": {},
     "output_type": "execute_result"
    }
   ],
   "source": [
    "lrf.best_params_"
   ]
  },
  {
   "cell_type": "code",
   "execution_count": 82,
   "id": "6d1f0159",
   "metadata": {},
   "outputs": [
    {
     "name": "stdout",
     "output_type": "stream",
     "text": [
      "Train score :  0.3710369570558937\n",
      "Test score :  0.4662297420306434\n"
     ]
    }
   ],
   "source": [
    "print('Train score : ', lrf.score(scaledX_train, y_train))\n",
    "print('Test score : ', lrf.score(scaledX_test, y_test))"
   ]
  },
  {
   "cell_type": "code",
   "execution_count": 83,
   "id": "7e0ee7cf",
   "metadata": {},
   "outputs": [],
   "source": [
    "dt = DecisionTreeRegressor()\n",
    "dtf = GridSearchCV(dt, param_grid= {'max_depth': [1,2,3,4,5], 'min_samples_split': [1,2,3,4,5], 'min_samples_leaf': [1,2,3,4,5]},\n",
    "                   scoring= 'r2', cv= 5)"
   ]
  },
  {
   "cell_type": "code",
   "execution_count": 84,
   "id": "d81c2866",
   "metadata": {},
   "outputs": [
    {
     "data": {
      "text/plain": [
       "GridSearchCV(cv=5, estimator=DecisionTreeRegressor(),\n",
       "             param_grid={'max_depth': [1, 2, 3, 4, 5],\n",
       "                         'min_samples_leaf': [1, 2, 3, 4, 5],\n",
       "                         'min_samples_split': [1, 2, 3, 4, 5]},\n",
       "             scoring='r2')"
      ]
     },
     "execution_count": 84,
     "metadata": {},
     "output_type": "execute_result"
    }
   ],
   "source": [
    "dtf.fit(scaledX_train, y_train)"
   ]
  },
  {
   "cell_type": "code",
   "execution_count": 85,
   "id": "5befd395",
   "metadata": {},
   "outputs": [
    {
     "data": {
      "text/plain": [
       "{'max_depth': 5, 'min_samples_leaf': 4, 'min_samples_split': 4}"
      ]
     },
     "execution_count": 85,
     "metadata": {},
     "output_type": "execute_result"
    }
   ],
   "source": [
    "dtf.best_params_"
   ]
  },
  {
   "cell_type": "code",
   "execution_count": 86,
   "id": "73a5d939",
   "metadata": {},
   "outputs": [
    {
     "name": "stdout",
     "output_type": "stream",
     "text": [
      "Train score :  0.5249064586489647\n",
      "Test score :  0.543597920624536\n"
     ]
    }
   ],
   "source": [
    "print('Train score : ', dtf.score(scaledX_train, y_train))\n",
    "print('Test score : ', dtf.score(scaledX_test, y_test))"
   ]
  },
  {
   "cell_type": "code",
   "execution_count": 87,
   "id": "a40a1124",
   "metadata": {},
   "outputs": [],
   "source": [
    "rf = RandomForestRegressor()\n",
    "rff = GridSearchCV(rf, param_grid= {'max_depth': [1,2,3,4,5], 'min_samples_split': [1,2,3,4,5], 'min_samples_leaf': [1,2,3,4,5]},\n",
    "                   scoring= 'r2', cv= 5)"
   ]
  },
  {
   "cell_type": "code",
   "execution_count": 88,
   "id": "8a9aeb8f",
   "metadata": {},
   "outputs": [
    {
     "data": {
      "text/plain": [
       "GridSearchCV(cv=5, estimator=RandomForestRegressor(),\n",
       "             param_grid={'max_depth': [1, 2, 3, 4, 5],\n",
       "                         'min_samples_leaf': [1, 2, 3, 4, 5],\n",
       "                         'min_samples_split': [1, 2, 3, 4, 5]},\n",
       "             scoring='r2')"
      ]
     },
     "execution_count": 88,
     "metadata": {},
     "output_type": "execute_result"
    }
   ],
   "source": [
    "rff.fit(scaledX_train, y_train)"
   ]
  },
  {
   "cell_type": "code",
   "execution_count": 89,
   "id": "ed0c8830",
   "metadata": {},
   "outputs": [
    {
     "data": {
      "text/plain": [
       "{'max_depth': 5, 'min_samples_leaf': 3, 'min_samples_split': 2}"
      ]
     },
     "execution_count": 89,
     "metadata": {},
     "output_type": "execute_result"
    }
   ],
   "source": [
    "rff.best_params_"
   ]
  },
  {
   "cell_type": "code",
   "execution_count": 90,
   "id": "fef39845",
   "metadata": {},
   "outputs": [
    {
     "name": "stdout",
     "output_type": "stream",
     "text": [
      "Train score :  0.5693096050656798\n",
      "Test score :  0.6013559121284408\n"
     ]
    }
   ],
   "source": [
    "print('Train score : ', rff.score(scaledX_train, y_train))\n",
    "print('Test score : ', rff.score(scaledX_test, y_test))"
   ]
  },
  {
   "cell_type": "code",
   "execution_count": 91,
   "id": "96c39c66",
   "metadata": {},
   "outputs": [],
   "source": [
    "br = BaggingRegressor()\n",
    "brf = GridSearchCV(br, param_grid= {'n_estimators': [10,20,30,40,50], 'max_features': [1,2,3,4,5], 'max_samples': [1,2,3,4,5]},\n",
    "                   scoring= 'r2', cv= 5)"
   ]
  },
  {
   "cell_type": "code",
   "execution_count": 92,
   "id": "637704d9",
   "metadata": {},
   "outputs": [
    {
     "data": {
      "text/plain": [
       "GridSearchCV(cv=5, estimator=BaggingRegressor(),\n",
       "             param_grid={'max_features': [1, 2, 3, 4, 5],\n",
       "                         'max_samples': [1, 2, 3, 4, 5],\n",
       "                         'n_estimators': [10, 20, 30, 40, 50]},\n",
       "             scoring='r2')"
      ]
     },
     "execution_count": 92,
     "metadata": {},
     "output_type": "execute_result"
    }
   ],
   "source": [
    "brf.fit(scaledX_train, y_train)"
   ]
  },
  {
   "cell_type": "code",
   "execution_count": 93,
   "id": "83cefc5a",
   "metadata": {},
   "outputs": [
    {
     "data": {
      "text/plain": [
       "{'max_features': 5, 'max_samples': 5, 'n_estimators': 50}"
      ]
     },
     "execution_count": 93,
     "metadata": {},
     "output_type": "execute_result"
    }
   ],
   "source": [
    "brf.best_params_"
   ]
  },
  {
   "cell_type": "code",
   "execution_count": 94,
   "id": "e14e264d",
   "metadata": {},
   "outputs": [
    {
     "name": "stdout",
     "output_type": "stream",
     "text": [
      "Train score :  0.16106285915249108\n",
      "Test score :  0.1714692640242792\n"
     ]
    }
   ],
   "source": [
    "print('Train score : ', brf.score(scaledX_train, y_train))\n",
    "print('Test score : ', brf.score(scaledX_test, y_test))"
   ]
  },
  {
   "cell_type": "code",
   "execution_count": 95,
   "id": "62fca977",
   "metadata": {},
   "outputs": [],
   "source": [
    "ad = AdaBoostRegressor(base_estimator= DecisionTreeRegressor())\n",
    "adf = GridSearchCV(ad, param_grid= {'n_estimators': [10,20,30,40,50], 'learning_rate': [1,0.1,0.01,0.245,0.35678]},\n",
    "                   scoring= 'r2', cv= 5)"
   ]
  },
  {
   "cell_type": "code",
   "execution_count": 96,
   "id": "ef74edc8",
   "metadata": {},
   "outputs": [
    {
     "data": {
      "text/plain": [
       "GridSearchCV(cv=5,\n",
       "             estimator=AdaBoostRegressor(base_estimator=DecisionTreeRegressor()),\n",
       "             param_grid={'learning_rate': [1, 0.1, 0.01, 0.245, 0.35678],\n",
       "                         'n_estimators': [10, 20, 30, 40, 50]},\n",
       "             scoring='r2')"
      ]
     },
     "execution_count": 96,
     "metadata": {},
     "output_type": "execute_result"
    }
   ],
   "source": [
    "adf.fit(scaledX_train, y_train)"
   ]
  },
  {
   "cell_type": "code",
   "execution_count": 97,
   "id": "af83eeec",
   "metadata": {},
   "outputs": [
    {
     "data": {
      "text/plain": [
       "{'learning_rate': 1, 'n_estimators': 40}"
      ]
     },
     "execution_count": 97,
     "metadata": {},
     "output_type": "execute_result"
    }
   ],
   "source": [
    "adf.best_params_"
   ]
  },
  {
   "cell_type": "code",
   "execution_count": 98,
   "id": "0b550cfa",
   "metadata": {},
   "outputs": [
    {
     "name": "stdout",
     "output_type": "stream",
     "text": [
      "Train score :  0.9377899513123458\n",
      "Test score :  0.5296415546617945\n"
     ]
    }
   ],
   "source": [
    "print('Train score : ', adf.score(scaledX_train, y_train))\n",
    "print('Test score : ', adf.score(scaledX_test, y_test))"
   ]
  },
  {
   "cell_type": "code",
   "execution_count": 99,
   "id": "8a215c39",
   "metadata": {},
   "outputs": [],
   "source": [
    "gd = GradientBoostingRegressor()\n",
    "gdf = GridSearchCV(gd, param_grid= {'learning_rate': [0.1,0.2,0.01,0.02345,0.34], 'max_depth': [1,2,3,4,5], 'min_samples_leaf': [1,2,3,4,5]},\n",
    "                   scoring= 'r2', cv= 5)"
   ]
  },
  {
   "cell_type": "code",
   "execution_count": 100,
   "id": "2cf54e97",
   "metadata": {},
   "outputs": [
    {
     "data": {
      "text/plain": [
       "GridSearchCV(cv=5, estimator=GradientBoostingRegressor(),\n",
       "             param_grid={'learning_rate': [0.1, 0.2, 0.01, 0.02345, 0.34],\n",
       "                         'max_depth': [1, 2, 3, 4, 5],\n",
       "                         'min_samples_leaf': [1, 2, 3, 4, 5]},\n",
       "             scoring='r2')"
      ]
     },
     "execution_count": 100,
     "metadata": {},
     "output_type": "execute_result"
    }
   ],
   "source": [
    "gdf.fit(scaledX_train, y_train)"
   ]
  },
  {
   "cell_type": "code",
   "execution_count": 101,
   "id": "cf1bbc0e",
   "metadata": {},
   "outputs": [
    {
     "data": {
      "text/plain": [
       "{'learning_rate': 0.1, 'max_depth': 4, 'min_samples_leaf': 3}"
      ]
     },
     "execution_count": 101,
     "metadata": {},
     "output_type": "execute_result"
    }
   ],
   "source": [
    "gdf.best_params_"
   ]
  },
  {
   "cell_type": "code",
   "execution_count": 102,
   "id": "24be1bc3",
   "metadata": {},
   "outputs": [
    {
     "name": "stdout",
     "output_type": "stream",
     "text": [
      "Train score :  0.7237270903133821\n",
      "Test score :  0.6912836388427025\n"
     ]
    }
   ],
   "source": [
    "print('Train score : ', gdf.score(scaledX_train, y_train))\n",
    "print('Test score : ', gdf.score(scaledX_test, y_test))"
   ]
  },
  {
   "cell_type": "code",
   "execution_count": 103,
   "id": "f63533cb",
   "metadata": {},
   "outputs": [],
   "source": [
    "sv = SVR()\n",
    "svf = GridSearchCV(sv, param_grid= {'kernel': ['linear','rbf'], 'C': [1,2,3,4,5]},\n",
    "                   scoring= 'r2', cv= 5)"
   ]
  },
  {
   "cell_type": "code",
   "execution_count": 104,
   "id": "c4914cd7",
   "metadata": {},
   "outputs": [
    {
     "data": {
      "text/plain": [
       "GridSearchCV(cv=5, estimator=SVR(),\n",
       "             param_grid={'C': [1, 2, 3, 4, 5], 'kernel': ['linear', 'rbf']},\n",
       "             scoring='r2')"
      ]
     },
     "execution_count": 104,
     "metadata": {},
     "output_type": "execute_result"
    }
   ],
   "source": [
    "svf.fit(scaledX_train, y_train)"
   ]
  },
  {
   "cell_type": "code",
   "execution_count": 105,
   "id": "c824ae75",
   "metadata": {},
   "outputs": [
    {
     "data": {
      "text/plain": [
       "{'C': 5, 'kernel': 'linear'}"
      ]
     },
     "execution_count": 105,
     "metadata": {},
     "output_type": "execute_result"
    }
   ],
   "source": [
    "svf.best_params_"
   ]
  },
  {
   "cell_type": "code",
   "execution_count": 106,
   "id": "5c09500a",
   "metadata": {},
   "outputs": [
    {
     "name": "stdout",
     "output_type": "stream",
     "text": [
      "Train score :  0.3319377072098867\n",
      "Test score :  0.3978401484165168\n"
     ]
    }
   ],
   "source": [
    "print('Train score : ', svf.score(scaledX_train, y_train))\n",
    "print('Test score : ', svf.score(scaledX_test, y_test))"
   ]
  },
  {
   "cell_type": "code",
   "execution_count": 107,
   "id": "95595b31",
   "metadata": {},
   "outputs": [],
   "source": [
    "gd = GradientBoostingRegressor(learning_rate= 0.1, max_depth= 4, min_samples_leaf= 3)"
   ]
  },
  {
   "cell_type": "code",
   "execution_count": 108,
   "id": "8e067b45",
   "metadata": {},
   "outputs": [],
   "source": [
    "pred = gd.fit(scaledX_train, y_train).predict(scaledX_test)"
   ]
  },
  {
   "cell_type": "code",
   "execution_count": 113,
   "id": "5febfb14",
   "metadata": {},
   "outputs": [
    {
     "data": {
      "text/html": [
       "<div>\n",
       "<style scoped>\n",
       "    .dataframe tbody tr th:only-of-type {\n",
       "        vertical-align: middle;\n",
       "    }\n",
       "\n",
       "    .dataframe tbody tr th {\n",
       "        vertical-align: top;\n",
       "    }\n",
       "\n",
       "    .dataframe thead th {\n",
       "        text-align: right;\n",
       "    }\n",
       "</style>\n",
       "<table border=\"1\" class=\"dataframe\">\n",
       "  <thead>\n",
       "    <tr style=\"text-align: right;\">\n",
       "      <th></th>\n",
       "      <th>Actual</th>\n",
       "      <th>Prediction</th>\n",
       "    </tr>\n",
       "  </thead>\n",
       "  <tbody>\n",
       "    <tr>\n",
       "      <th>1378</th>\n",
       "      <td>24602</td>\n",
       "      <td>12778.0</td>\n",
       "    </tr>\n",
       "    <tr>\n",
       "      <th>792</th>\n",
       "      <td>16233</td>\n",
       "      <td>15155.0</td>\n",
       "    </tr>\n",
       "    <tr>\n",
       "      <th>1504</th>\n",
       "      <td>9954</td>\n",
       "      <td>11721.0</td>\n",
       "    </tr>\n",
       "    <tr>\n",
       "      <th>1226</th>\n",
       "      <td>16677</td>\n",
       "      <td>16870.0</td>\n",
       "    </tr>\n",
       "    <tr>\n",
       "      <th>560</th>\n",
       "      <td>7308</td>\n",
       "      <td>11140.0</td>\n",
       "    </tr>\n",
       "  </tbody>\n",
       "</table>\n",
       "</div>"
      ],
      "text/plain": [
       "      Actual  Prediction\n",
       "1378   24602     12778.0\n",
       "792    16233     15155.0\n",
       "1504    9954     11721.0\n",
       "1226   16677     16870.0\n",
       "560     7308     11140.0"
      ]
     },
     "execution_count": 113,
     "metadata": {},
     "output_type": "execute_result"
    }
   ],
   "source": [
    "df = pd.DataFrame({'Actual': y_test, 'Prediction': np.round(pred,0)})\n",
    "df.head()"
   ]
  },
  {
   "cell_type": "code",
   "execution_count": 114,
   "id": "fdc66846",
   "metadata": {},
   "outputs": [
    {
     "name": "stdout",
     "output_type": "stream",
     "text": [
      "r2 score :  0.6912463458504768\n"
     ]
    }
   ],
   "source": [
    "print('r2 score : ', metrics.r2_score(y_test, pred))"
   ]
  },
  {
   "cell_type": "code",
   "execution_count": 115,
   "id": "ee8a5ec5",
   "metadata": {},
   "outputs": [
    {
     "name": "stdout",
     "output_type": "stream",
     "text": [
      "rmse score :  3068.4838714927428\n"
     ]
    }
   ],
   "source": [
    "print('rmse score : ', np.sqrt(metrics.mean_squared_error(y_test, pred)))"
   ]
  },
  {
   "cell_type": "code",
   "execution_count": 116,
   "id": "1a532927",
   "metadata": {},
   "outputs": [
    {
     "name": "stdout",
     "output_type": "stream",
     "text": [
      "mae score :  2206.9907870191632\n"
     ]
    }
   ],
   "source": [
    "print('mae score : ', metrics.mean_absolute_error(y_test, pred))"
   ]
  },
  {
   "cell_type": "code",
   "execution_count": 117,
   "id": "7e3b4c2c",
   "metadata": {},
   "outputs": [],
   "source": [
    "save_gd = pickle.dumps(gd)"
   ]
  },
  {
   "cell_type": "code",
   "execution_count": null,
   "id": "5a79be8e",
   "metadata": {},
   "outputs": [],
   "source": []
  }
 ],
 "metadata": {
  "kernelspec": {
   "display_name": "Python 3 (ipykernel)",
   "language": "python",
   "name": "python3"
  },
  "language_info": {
   "codemirror_mode": {
    "name": "ipython",
    "version": 3
   },
   "file_extension": ".py",
   "mimetype": "text/x-python",
   "name": "python",
   "nbconvert_exporter": "python",
   "pygments_lexer": "ipython3",
   "version": "3.9.7"
  }
 },
 "nbformat": 4,
 "nbformat_minor": 5
}
