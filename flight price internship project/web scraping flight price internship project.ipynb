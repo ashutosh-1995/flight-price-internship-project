{
 "cells": [
  {
   "cell_type": "code",
   "execution_count": 1,
   "id": "ceb4ff5e",
   "metadata": {},
   "outputs": [],
   "source": [
    "import numpy as np\n",
    "import pandas as pd\n",
    "import selenium\n",
    "from selenium import webdriver\n",
    "import time\n",
    "import warnings\n",
    "warnings.filterwarnings('ignore')"
   ]
  },
  {
   "cell_type": "code",
   "execution_count": 2,
   "id": "6fca8084",
   "metadata": {},
   "outputs": [],
   "source": [
    "driver = webdriver.Chrome('C:/Users/dell/Downloads/chromedriver_win32 (1)/chromedriver.exe')"
   ]
  },
  {
   "cell_type": "code",
   "execution_count": 3,
   "id": "2d8c828f",
   "metadata": {},
   "outputs": [],
   "source": [
    "driver.get('https://flight.yatra.com/air-search-ui/dom2/trigger?type=O&viewName=normal&flexi=0&noOfSegments=1&origin=DEL&originCountry=IN&destination=BOM&destinationCountry=IN&flight_depart_date=15%2F03%2F2022&ADT=1&CHD=0&INF=0&class=Economy&source=fresco-home&unqvaldesktop=303180735971')"
   ]
  },
  {
   "cell_type": "code",
   "execution_count": 36,
   "id": "498a1f19",
   "metadata": {},
   "outputs": [],
   "source": [
    "name = []\n",
    "try:    \n",
    "    for i in driver.find_elements_by_xpath(\"//span[@class= 'i-b text ellipsis']\"):\n",
    "        name.append(i.text.replace(\"/n\",\"new line\"))\n",
    "except:\n",
    "    name.append(\"-\")"
   ]
  },
  {
   "cell_type": "code",
   "execution_count": 38,
   "id": "552aa472",
   "metadata": {},
   "outputs": [
    {
     "data": {
      "text/plain": [
       "158"
      ]
     },
     "execution_count": 38,
     "metadata": {},
     "output_type": "execute_result"
    }
   ],
   "source": [
    "len(name)"
   ]
  },
  {
   "cell_type": "code",
   "execution_count": 39,
   "id": "5acd332a",
   "metadata": {},
   "outputs": [],
   "source": [
    "source = []\n",
    "try:\n",
    "    for i in driver.find_elements_by_xpath(\"//p[@class= 'fs-10 font-lightgrey no-wrap city ellipsis']\"):\n",
    "        source.append(i.text.replace(\"/n\",\"new line\"))\n",
    "except:\n",
    "    source.append(\"-\")"
   ]
  },
  {
   "cell_type": "code",
   "execution_count": 41,
   "id": "89bedc47",
   "metadata": {},
   "outputs": [
    {
     "data": {
      "text/plain": [
       "316"
      ]
     },
     "execution_count": 41,
     "metadata": {},
     "output_type": "execute_result"
    }
   ],
   "source": [
    "len(source)"
   ]
  },
  {
   "cell_type": "code",
   "execution_count": 42,
   "id": "8c4476c1",
   "metadata": {},
   "outputs": [
    {
     "data": {
      "text/plain": [
       "158"
      ]
     },
     "execution_count": 42,
     "metadata": {},
     "output_type": "execute_result"
    }
   ],
   "source": [
    "sou = source[::2]\n",
    "len(sou)"
   ]
  },
  {
   "cell_type": "code",
   "execution_count": 43,
   "id": "97bd8d25",
   "metadata": {},
   "outputs": [
    {
     "data": {
      "text/plain": [
       "158"
      ]
     },
     "execution_count": 43,
     "metadata": {},
     "output_type": "execute_result"
    }
   ],
   "source": [
    "dest = source[1::2]\n",
    "len(dest)"
   ]
  },
  {
   "cell_type": "code",
   "execution_count": 44,
   "id": "d76c514e",
   "metadata": {},
   "outputs": [],
   "source": [
    "dep = []\n",
    "try:\n",
    "    for i in driver.find_elements_by_xpath(\"//div[@class= 'i-b pr']\"):\n",
    "        dep.append(i.text.replace(\"/n\",\"new line\"))\n",
    "except:\n",
    "    dep.append(\"-\")"
   ]
  },
  {
   "cell_type": "code",
   "execution_count": 46,
   "id": "14f3ed02",
   "metadata": {},
   "outputs": [
    {
     "data": {
      "text/plain": [
       "158"
      ]
     },
     "execution_count": 46,
     "metadata": {},
     "output_type": "execute_result"
    }
   ],
   "source": [
    "len(dep)"
   ]
  },
  {
   "cell_type": "code",
   "execution_count": 47,
   "id": "64971a04",
   "metadata": {},
   "outputs": [],
   "source": [
    "arr = []\n",
    "try:\n",
    "    for i in driver.find_elements_by_xpath(\"//p[@class= 'bold fs-15 mb-2 pr time']\"):\n",
    "        arr.append(i.text.replace(\"/n\",\"new line\"))\n",
    "except:\n",
    "    arr.append(\"-\")"
   ]
  },
  {
   "cell_type": "code",
   "execution_count": 49,
   "id": "41e931aa",
   "metadata": {},
   "outputs": [
    {
     "data": {
      "text/plain": [
       "158"
      ]
     },
     "execution_count": 49,
     "metadata": {},
     "output_type": "execute_result"
    }
   ],
   "source": [
    "len(arr)"
   ]
  },
  {
   "cell_type": "code",
   "execution_count": 50,
   "id": "389bf7aa",
   "metadata": {},
   "outputs": [],
   "source": [
    "stops = []\n",
    "for i in driver.find_elements_by_xpath(\"//div[@class= ' font-lightgrey fs-10 tipsy i-b fs-10']\"):\n",
    "    stops.append(i.text.replace(\"/n\",\"new line\"))"
   ]
  },
  {
   "cell_type": "code",
   "execution_count": 52,
   "id": "2ef4dab9",
   "metadata": {},
   "outputs": [
    {
     "data": {
      "text/plain": [
       "158"
      ]
     },
     "execution_count": 52,
     "metadata": {},
     "output_type": "execute_result"
    }
   ],
   "source": [
    "len(stops)"
   ]
  },
  {
   "cell_type": "code",
   "execution_count": 53,
   "id": "eb7b081b",
   "metadata": {},
   "outputs": [],
   "source": [
    "dur = []\n",
    "for i in driver.find_elements_by_xpath(\"//p[@class= 'fs-12 bold du mb-2']\"):\n",
    "    dur.append(i.text.replace(\"/n\",\"new line\"))"
   ]
  },
  {
   "cell_type": "code",
   "execution_count": 55,
   "id": "c03e7f9d",
   "metadata": {},
   "outputs": [
    {
     "data": {
      "text/plain": [
       "158"
      ]
     },
     "execution_count": 55,
     "metadata": {},
     "output_type": "execute_result"
    }
   ],
   "source": [
    "len(dur)"
   ]
  },
  {
   "cell_type": "code",
   "execution_count": 56,
   "id": "e210a5f8",
   "metadata": {},
   "outputs": [],
   "source": [
    "price = []\n",
    "for i in driver.find_elements_by_xpath(\"//div[@class= 'i-b tipsy fare-summary-tooltip fs-18']\"):\n",
    "    price.append(i.text.replace(\"/n\",\"new line\"))"
   ]
  },
  {
   "cell_type": "code",
   "execution_count": 58,
   "id": "b4de3314",
   "metadata": {},
   "outputs": [
    {
     "data": {
      "text/plain": [
       "158"
      ]
     },
     "execution_count": 58,
     "metadata": {},
     "output_type": "execute_result"
    }
   ],
   "source": [
    "len(price)"
   ]
  },
  {
   "cell_type": "code",
   "execution_count": 59,
   "id": "ce0d642a",
   "metadata": {},
   "outputs": [],
   "source": [
    "flight1 = pd.DataFrame({\"Airline Name\": name, \"Source\": sou, \"Departure Time\": dep, \"Destination\": dest, \"Arrival Time\": arr,\n",
    "                       \"Stops\": stops, \"Duration\": dur, \"Flight Price\": price})"
   ]
  },
  {
   "cell_type": "code",
   "execution_count": 61,
   "id": "6229328b",
   "metadata": {},
   "outputs": [],
   "source": [
    "flight1 = flight1.to_csv(\"flight1.csv\")"
   ]
  },
  {
   "cell_type": "code",
   "execution_count": 63,
   "id": "564aaea5",
   "metadata": {},
   "outputs": [],
   "source": [
    "driver.get('https://flight.yatra.com/air-search-ui/dom2/trigger?type=O&viewName=normal&flexi=0&noOfSegments=1&origin=DEL&originCountry=IN&destination=BLR&destinationCountry=IN&flight_depart_date=15%2F03%2F2022&ADT=1&CHD=0&INF=0&class=Economy&source=fresco-home&unqvaldesktop=322991300160')"
   ]
  },
  {
   "cell_type": "code",
   "execution_count": 64,
   "id": "985c5a1a",
   "metadata": {},
   "outputs": [],
   "source": [
    "name = []\n",
    "for i in driver.find_elements_by_xpath(\"//span[@class= 'i-b text ellipsis']\"):\n",
    "    name.append(i.text.replace(\"/n\",\"new line\"))"
   ]
  },
  {
   "cell_type": "code",
   "execution_count": 66,
   "id": "76d5f6e6",
   "metadata": {},
   "outputs": [
    {
     "data": {
      "text/plain": [
       "152"
      ]
     },
     "execution_count": 66,
     "metadata": {},
     "output_type": "execute_result"
    }
   ],
   "source": [
    "len(name)"
   ]
  },
  {
   "cell_type": "code",
   "execution_count": 67,
   "id": "36e54bc2",
   "metadata": {},
   "outputs": [],
   "source": [
    "source = []\n",
    "for i in driver.find_elements_by_xpath(\"//p[@class= 'fs-10 font-lightgrey no-wrap city ellipsis']\"):\n",
    "    source.append(i.text.replace(\"/n\",\"new line\"))"
   ]
  },
  {
   "cell_type": "code",
   "execution_count": 70,
   "id": "a0152604",
   "metadata": {},
   "outputs": [
    {
     "data": {
      "text/plain": [
       "152"
      ]
     },
     "execution_count": 70,
     "metadata": {},
     "output_type": "execute_result"
    }
   ],
   "source": [
    "sou = source[::2]\n",
    "len(sou)"
   ]
  },
  {
   "cell_type": "code",
   "execution_count": 72,
   "id": "44faa476",
   "metadata": {},
   "outputs": [
    {
     "data": {
      "text/plain": [
       "152"
      ]
     },
     "execution_count": 72,
     "metadata": {},
     "output_type": "execute_result"
    }
   ],
   "source": [
    "dest = source[1::2]\n",
    "len(dest)"
   ]
  },
  {
   "cell_type": "code",
   "execution_count": 74,
   "id": "e8547d63",
   "metadata": {},
   "outputs": [],
   "source": [
    "dep = []\n",
    "for i in driver.find_elements_by_xpath(\"//div[@class= 'i-b pr']\"):\n",
    "    dep.append(i.text.replace(\"/n\",\"new line\"))"
   ]
  },
  {
   "cell_type": "code",
   "execution_count": 76,
   "id": "2d104830",
   "metadata": {},
   "outputs": [
    {
     "data": {
      "text/plain": [
       "152"
      ]
     },
     "execution_count": 76,
     "metadata": {},
     "output_type": "execute_result"
    }
   ],
   "source": [
    "len(dep)"
   ]
  },
  {
   "cell_type": "code",
   "execution_count": 77,
   "id": "8e05bd27",
   "metadata": {},
   "outputs": [],
   "source": [
    "arr = []\n",
    "for i in driver.find_elements_by_xpath(\"//p[@class= 'bold fs-15 mb-2 pr time']\"):\n",
    "    arr.append(i.text.replace(\"/n\",\"new line\"))"
   ]
  },
  {
   "cell_type": "code",
   "execution_count": 79,
   "id": "7f04e6f2",
   "metadata": {},
   "outputs": [
    {
     "data": {
      "text/plain": [
       "152"
      ]
     },
     "execution_count": 79,
     "metadata": {},
     "output_type": "execute_result"
    }
   ],
   "source": [
    "len(arr)"
   ]
  },
  {
   "cell_type": "code",
   "execution_count": 80,
   "id": "65f6f7b6",
   "metadata": {},
   "outputs": [],
   "source": [
    "stops = []\n",
    "for i in driver.find_elements_by_xpath(\"//div[@class= ' font-lightgrey fs-10 tipsy i-b fs-10']\"):\n",
    "    stops.append(i.text.replace(\"/n\",\"new line\"))"
   ]
  },
  {
   "cell_type": "code",
   "execution_count": 82,
   "id": "164e1641",
   "metadata": {},
   "outputs": [
    {
     "data": {
      "text/plain": [
       "152"
      ]
     },
     "execution_count": 82,
     "metadata": {},
     "output_type": "execute_result"
    }
   ],
   "source": [
    "len(stops)"
   ]
  },
  {
   "cell_type": "code",
   "execution_count": 83,
   "id": "09ec79c5",
   "metadata": {},
   "outputs": [],
   "source": [
    "dur = []\n",
    "for i in driver.find_elements_by_xpath(\"//p[@class= 'fs-12 bold du mb-2']\"):\n",
    "    dur.append(i.text.replace(\"/n\",\"new line\"))"
   ]
  },
  {
   "cell_type": "code",
   "execution_count": 85,
   "id": "e8ed99c1",
   "metadata": {},
   "outputs": [
    {
     "data": {
      "text/plain": [
       "152"
      ]
     },
     "execution_count": 85,
     "metadata": {},
     "output_type": "execute_result"
    }
   ],
   "source": [
    "len(dur)"
   ]
  },
  {
   "cell_type": "code",
   "execution_count": 86,
   "id": "d071f0f7",
   "metadata": {},
   "outputs": [],
   "source": [
    "price = []\n",
    "for i in driver.find_elements_by_xpath(\"//div[@class= 'i-b tipsy fare-summary-tooltip fs-18']\"):\n",
    "    price.append(i.text.replace(\"/n\",\"new line\"))"
   ]
  },
  {
   "cell_type": "code",
   "execution_count": 88,
   "id": "daf3b5d5",
   "metadata": {},
   "outputs": [
    {
     "data": {
      "text/plain": [
       "152"
      ]
     },
     "execution_count": 88,
     "metadata": {},
     "output_type": "execute_result"
    }
   ],
   "source": [
    "len(price)"
   ]
  },
  {
   "cell_type": "code",
   "execution_count": 89,
   "id": "5171b420",
   "metadata": {},
   "outputs": [],
   "source": [
    "flight2 = pd.DataFrame({\"Airline Name\": name, \"Source\": sou, \"Departure Time\": dep, \"Destination\": dest, \"Arrival Time\": arr,\n",
    "                       \"Stops\": stops, \"Duration\": dur, \"Flight Price\": price})"
   ]
  },
  {
   "cell_type": "code",
   "execution_count": 91,
   "id": "37772f74",
   "metadata": {},
   "outputs": [],
   "source": [
    "flight2 = flight2.to_csv(\"flight2.csv\")"
   ]
  },
  {
   "cell_type": "code",
   "execution_count": 92,
   "id": "705a45a5",
   "metadata": {},
   "outputs": [],
   "source": [
    "driver.get('https://flight.yatra.com/air-search-ui/dom2/trigger?type=O&viewName=normal&flexi=0&noOfSegments=1&origin=DEL&originCountry=IN&destination=MAA&destinationCountry=IN&flight_depart_date=15%2F03%2F2022&ADT=1&CHD=0&INF=0&class=Economy&source=fresco-home&unqvaldesktop=593688078629')"
   ]
  },
  {
   "cell_type": "code",
   "execution_count": 94,
   "id": "59c5f96e",
   "metadata": {},
   "outputs": [],
   "source": [
    "name = []\n",
    "for i in driver.find_elements_by_xpath(\"//span[@class= 'i-b text ellipsis']\"):\n",
    "    name.append(i.text.replace(\"/n\",\"new line\"))"
   ]
  },
  {
   "cell_type": "code",
   "execution_count": 96,
   "id": "1c2e4a6b",
   "metadata": {},
   "outputs": [
    {
     "data": {
      "text/plain": [
       "112"
      ]
     },
     "execution_count": 96,
     "metadata": {},
     "output_type": "execute_result"
    }
   ],
   "source": [
    "len(name)"
   ]
  },
  {
   "cell_type": "code",
   "execution_count": 97,
   "id": "a54fbf85",
   "metadata": {},
   "outputs": [],
   "source": [
    "source = []\n",
    "for i in driver.find_elements_by_xpath(\"//p[@class= 'fs-10 font-lightgrey no-wrap city ellipsis']\"):\n",
    "    source.append(i.text.replace(\"/n\",\"new line\"))"
   ]
  },
  {
   "cell_type": "code",
   "execution_count": 99,
   "id": "a993570f",
   "metadata": {},
   "outputs": [
    {
     "data": {
      "text/plain": [
       "224"
      ]
     },
     "execution_count": 99,
     "metadata": {},
     "output_type": "execute_result"
    }
   ],
   "source": [
    "len(source)"
   ]
  },
  {
   "cell_type": "code",
   "execution_count": 101,
   "id": "676ef2ec",
   "metadata": {},
   "outputs": [
    {
     "data": {
      "text/plain": [
       "112"
      ]
     },
     "execution_count": 101,
     "metadata": {},
     "output_type": "execute_result"
    }
   ],
   "source": [
    "sou = source[::2]\n",
    "len(sou)"
   ]
  },
  {
   "cell_type": "code",
   "execution_count": 103,
   "id": "3ce1109b",
   "metadata": {},
   "outputs": [
    {
     "data": {
      "text/plain": [
       "112"
      ]
     },
     "execution_count": 103,
     "metadata": {},
     "output_type": "execute_result"
    }
   ],
   "source": [
    "dest = source[1::2]\n",
    "len(dest)"
   ]
  },
  {
   "cell_type": "code",
   "execution_count": 104,
   "id": "e965d8fb",
   "metadata": {},
   "outputs": [],
   "source": [
    "dep = []\n",
    "for i in driver.find_elements_by_xpath(\"//div[@class= 'i-b pr']\"):\n",
    "    dep.append(i.text.replace(\"/n\",\"new line\"))"
   ]
  },
  {
   "cell_type": "code",
   "execution_count": 106,
   "id": "3cf4c868",
   "metadata": {},
   "outputs": [
    {
     "data": {
      "text/plain": [
       "112"
      ]
     },
     "execution_count": 106,
     "metadata": {},
     "output_type": "execute_result"
    }
   ],
   "source": [
    "len(dep)"
   ]
  },
  {
   "cell_type": "code",
   "execution_count": 107,
   "id": "e5515adf",
   "metadata": {},
   "outputs": [],
   "source": [
    "arr = []\n",
    "for i in driver.find_elements_by_xpath(\"//p[@class= 'bold fs-15 mb-2 pr time']\"):\n",
    "    arr.append(i.text.replace(\"/n\",\"new line\"))"
   ]
  },
  {
   "cell_type": "code",
   "execution_count": 109,
   "id": "6da7942b",
   "metadata": {},
   "outputs": [
    {
     "data": {
      "text/plain": [
       "112"
      ]
     },
     "execution_count": 109,
     "metadata": {},
     "output_type": "execute_result"
    }
   ],
   "source": [
    "len(arr)"
   ]
  },
  {
   "cell_type": "code",
   "execution_count": 110,
   "id": "d9d74890",
   "metadata": {},
   "outputs": [],
   "source": [
    "stops = []\n",
    "for i in driver.find_elements_by_xpath(\"//div[@class= ' font-lightgrey fs-10 tipsy i-b fs-10']\"):\n",
    "    stops.append(i.text.replace(\"/n\",\"new line\"))"
   ]
  },
  {
   "cell_type": "code",
   "execution_count": 112,
   "id": "8e5d13f1",
   "metadata": {},
   "outputs": [
    {
     "data": {
      "text/plain": [
       "112"
      ]
     },
     "execution_count": 112,
     "metadata": {},
     "output_type": "execute_result"
    }
   ],
   "source": [
    "len(stops)"
   ]
  },
  {
   "cell_type": "code",
   "execution_count": 113,
   "id": "99393491",
   "metadata": {},
   "outputs": [],
   "source": [
    "dur = []\n",
    "for i in driver.find_elements_by_xpath(\"//p[@class= 'fs-12 bold du mb-2']\"):\n",
    "    dur.append(i.text.replace(\"/n\",\"new line\"))"
   ]
  },
  {
   "cell_type": "code",
   "execution_count": 115,
   "id": "cf8dbf80",
   "metadata": {},
   "outputs": [
    {
     "data": {
      "text/plain": [
       "112"
      ]
     },
     "execution_count": 115,
     "metadata": {},
     "output_type": "execute_result"
    }
   ],
   "source": [
    "len(dur)"
   ]
  },
  {
   "cell_type": "code",
   "execution_count": 116,
   "id": "e596441e",
   "metadata": {},
   "outputs": [],
   "source": [
    "price = []\n",
    "for i in driver.find_elements_by_xpath(\"//div[@class= 'i-b tipsy fare-summary-tooltip fs-18']\"):\n",
    "    price.append(i.text.replace(\"/n\",\"new line\"))"
   ]
  },
  {
   "cell_type": "code",
   "execution_count": 118,
   "id": "ac11556b",
   "metadata": {},
   "outputs": [
    {
     "data": {
      "text/plain": [
       "112"
      ]
     },
     "execution_count": 118,
     "metadata": {},
     "output_type": "execute_result"
    }
   ],
   "source": [
    "len(price)"
   ]
  },
  {
   "cell_type": "code",
   "execution_count": 119,
   "id": "718d260f",
   "metadata": {},
   "outputs": [],
   "source": [
    "flight3 = pd.DataFrame({\"Airline Name\": name, \"Source\": sou, \"Departure Time\": dep, \"Destination\": dest, \"Arrival Time\": arr,\n",
    "                       \"Stops\": stops, \"Duration\": dur, \"Flight Price\": price})"
   ]
  },
  {
   "cell_type": "code",
   "execution_count": 121,
   "id": "5fa04a52",
   "metadata": {},
   "outputs": [],
   "source": [
    "flight3 = flight3.to_csv('flight3.csv')"
   ]
  },
  {
   "cell_type": "code",
   "execution_count": 122,
   "id": "a0b654b2",
   "metadata": {},
   "outputs": [],
   "source": [
    "driver.get(\"https://flight.yatra.com/air-search-ui/dom2/trigger?type=O&viewName=normal&flexi=0&noOfSegments=1&origin=DEL&originCountry=IN&destination=HYD&destinationCountry=IN&flight_depart_date=15%2F03%2F2022&ADT=1&CHD=0&INF=0&class=Economy&source=fresco-home&unqvaldesktop=730258147895\")"
   ]
  },
  {
   "cell_type": "code",
   "execution_count": 123,
   "id": "4286c85c",
   "metadata": {},
   "outputs": [],
   "source": [
    "name = []\n",
    "for i in driver.find_elements_by_xpath(\"//span[@class= 'i-b text ellipsis']\"):\n",
    "    name.append(i.text.replace(\"/n\",\"new line\"))"
   ]
  },
  {
   "cell_type": "code",
   "execution_count": 125,
   "id": "d0ac770d",
   "metadata": {},
   "outputs": [
    {
     "data": {
      "text/plain": [
       "103"
      ]
     },
     "execution_count": 125,
     "metadata": {},
     "output_type": "execute_result"
    }
   ],
   "source": [
    "len(name)"
   ]
  },
  {
   "cell_type": "code",
   "execution_count": 126,
   "id": "c2d99750",
   "metadata": {},
   "outputs": [],
   "source": [
    "source = []\n",
    "for i in driver.find_elements_by_xpath(\"//p[@class= 'fs-10 font-lightgrey no-wrap city ellipsis']\"):\n",
    "    source.append(i.text.replace(\"/n\",\"new line\"))"
   ]
  },
  {
   "cell_type": "code",
   "execution_count": 132,
   "id": "c0487ec9",
   "metadata": {},
   "outputs": [
    {
     "data": {
      "text/plain": [
       "206"
      ]
     },
     "execution_count": 132,
     "metadata": {},
     "output_type": "execute_result"
    }
   ],
   "source": [
    "len(source)"
   ]
  },
  {
   "cell_type": "code",
   "execution_count": 129,
   "id": "f9faf716",
   "metadata": {},
   "outputs": [
    {
     "data": {
      "text/plain": [
       "103"
      ]
     },
     "execution_count": 129,
     "metadata": {},
     "output_type": "execute_result"
    }
   ],
   "source": [
    "sou = source[::2]\n",
    "len(sou)"
   ]
  },
  {
   "cell_type": "code",
   "execution_count": 131,
   "id": "1d2c3769",
   "metadata": {},
   "outputs": [
    {
     "data": {
      "text/plain": [
       "103"
      ]
     },
     "execution_count": 131,
     "metadata": {},
     "output_type": "execute_result"
    }
   ],
   "source": [
    "dest = source[1::2]\n",
    "len(dest)"
   ]
  },
  {
   "cell_type": "code",
   "execution_count": 133,
   "id": "3df91493",
   "metadata": {},
   "outputs": [],
   "source": [
    "dep = []\n",
    "for i in driver.find_elements_by_xpath(\"//div[@class= 'i-b pr']\"):\n",
    "    dep.append(i.text.replace(\"/n\",\"new line\"))"
   ]
  },
  {
   "cell_type": "code",
   "execution_count": 135,
   "id": "3e550595",
   "metadata": {},
   "outputs": [
    {
     "data": {
      "text/plain": [
       "103"
      ]
     },
     "execution_count": 135,
     "metadata": {},
     "output_type": "execute_result"
    }
   ],
   "source": [
    "len(dep)"
   ]
  },
  {
   "cell_type": "code",
   "execution_count": 136,
   "id": "8c6d0704",
   "metadata": {},
   "outputs": [],
   "source": [
    "arr = []\n",
    "for i in driver.find_elements_by_xpath(\"//p[@class= 'bold fs-15 mb-2 pr time']\"):\n",
    "    arr.append(i.text.replace(\"/n\",\"new line\"))"
   ]
  },
  {
   "cell_type": "code",
   "execution_count": 138,
   "id": "9c1686ed",
   "metadata": {},
   "outputs": [
    {
     "data": {
      "text/plain": [
       "103"
      ]
     },
     "execution_count": 138,
     "metadata": {},
     "output_type": "execute_result"
    }
   ],
   "source": [
    "len(arr)"
   ]
  },
  {
   "cell_type": "code",
   "execution_count": 139,
   "id": "1bc8c913",
   "metadata": {},
   "outputs": [],
   "source": [
    "stops = []\n",
    "for i in driver.find_elements_by_xpath(\"//div[@class= ' font-lightgrey fs-10 tipsy i-b fs-10']\"):\n",
    "    stops.append(i.text.replace(\"/n\",\"new line\"))"
   ]
  },
  {
   "cell_type": "code",
   "execution_count": 141,
   "id": "d857866e",
   "metadata": {},
   "outputs": [
    {
     "data": {
      "text/plain": [
       "103"
      ]
     },
     "execution_count": 141,
     "metadata": {},
     "output_type": "execute_result"
    }
   ],
   "source": [
    "len(stops)"
   ]
  },
  {
   "cell_type": "code",
   "execution_count": 142,
   "id": "acb19e7c",
   "metadata": {},
   "outputs": [],
   "source": [
    "dur = []\n",
    "for i in driver.find_elements_by_xpath(\"//p[@class= 'fs-12 bold du mb-2']\"):\n",
    "    dur.append(i.text.replace(\"/n\",\"new line\"))"
   ]
  },
  {
   "cell_type": "code",
   "execution_count": 144,
   "id": "6c61b600",
   "metadata": {},
   "outputs": [
    {
     "data": {
      "text/plain": [
       "103"
      ]
     },
     "execution_count": 144,
     "metadata": {},
     "output_type": "execute_result"
    }
   ],
   "source": [
    "len(dur)"
   ]
  },
  {
   "cell_type": "code",
   "execution_count": 145,
   "id": "5673dee4",
   "metadata": {},
   "outputs": [],
   "source": [
    "price = []\n",
    "for i in driver.find_elements_by_xpath(\"//div[@class= 'i-b tipsy fare-summary-tooltip fs-18']\"):\n",
    "    price.append(i.text.replace(\"/n\",\"new line\"))"
   ]
  },
  {
   "cell_type": "code",
   "execution_count": 147,
   "id": "32a63949",
   "metadata": {},
   "outputs": [
    {
     "data": {
      "text/plain": [
       "103"
      ]
     },
     "execution_count": 147,
     "metadata": {},
     "output_type": "execute_result"
    }
   ],
   "source": [
    "len(price)"
   ]
  },
  {
   "cell_type": "code",
   "execution_count": 148,
   "id": "cf70deee",
   "metadata": {},
   "outputs": [],
   "source": [
    "flight4 = pd.DataFrame({\"Airline Name\": name, \"Source\": sou, \"Departure Time\": dep, \"Destination\": dest, \"Arrival Time\": arr,\n",
    "                       \"Stops\": stops, \"Duration\": dur, \"Flight Price\": price})"
   ]
  },
  {
   "cell_type": "code",
   "execution_count": 150,
   "id": "9cc54ab0",
   "metadata": {},
   "outputs": [],
   "source": [
    "flight4 = flight4.to_csv('flight4.csv')"
   ]
  },
  {
   "cell_type": "code",
   "execution_count": 151,
   "id": "a08bb830",
   "metadata": {},
   "outputs": [],
   "source": [
    "driver.get('https://flight.yatra.com/air-search-ui/dom2/trigger?type=O&viewName=normal&flexi=0&noOfSegments=1&origin=BOM&originCountry=IN&destination=DEL&destinationCountry=IN&flight_depart_date=15%2F03%2F2022&ADT=1&CHD=0&INF=0&class=Economy&source=fresco-home&unqvaldesktop=732249197107')"
   ]
  },
  {
   "cell_type": "code",
   "execution_count": 152,
   "id": "6a8c2fa8",
   "metadata": {},
   "outputs": [],
   "source": [
    "name = []\n",
    "for i in driver.find_elements_by_xpath(\"//span[@class= 'i-b text ellipsis']\"):\n",
    "    name.append(i.text.replace(\"/n\",\"new line\"))"
   ]
  },
  {
   "cell_type": "code",
   "execution_count": 154,
   "id": "955b94de",
   "metadata": {},
   "outputs": [
    {
     "data": {
      "text/plain": [
       "152"
      ]
     },
     "execution_count": 154,
     "metadata": {},
     "output_type": "execute_result"
    }
   ],
   "source": [
    "len(name)"
   ]
  },
  {
   "cell_type": "code",
   "execution_count": 155,
   "id": "59936873",
   "metadata": {},
   "outputs": [],
   "source": [
    "source = []\n",
    "for i in driver.find_elements_by_xpath(\"//p[@class= 'fs-10 font-lightgrey no-wrap city ellipsis']\"):\n",
    "    source.append(i.text.replace(\"/n\",\"new line\"))"
   ]
  },
  {
   "cell_type": "code",
   "execution_count": 161,
   "id": "8bf33e53",
   "metadata": {},
   "outputs": [
    {
     "data": {
      "text/plain": [
       "304"
      ]
     },
     "execution_count": 161,
     "metadata": {},
     "output_type": "execute_result"
    }
   ],
   "source": [
    "len(source)"
   ]
  },
  {
   "cell_type": "code",
   "execution_count": 158,
   "id": "3d500b97",
   "metadata": {},
   "outputs": [
    {
     "data": {
      "text/plain": [
       "152"
      ]
     },
     "execution_count": 158,
     "metadata": {},
     "output_type": "execute_result"
    }
   ],
   "source": [
    "sou = source[::2]\n",
    "len(sou)"
   ]
  },
  {
   "cell_type": "code",
   "execution_count": 160,
   "id": "00b9d4c0",
   "metadata": {},
   "outputs": [
    {
     "data": {
      "text/plain": [
       "152"
      ]
     },
     "execution_count": 160,
     "metadata": {},
     "output_type": "execute_result"
    }
   ],
   "source": [
    "dest = source[1::2]\n",
    "len(dest)"
   ]
  },
  {
   "cell_type": "code",
   "execution_count": 162,
   "id": "60c943d0",
   "metadata": {},
   "outputs": [],
   "source": [
    "dep = []\n",
    "for i in driver.find_elements_by_xpath(\"//div[@class= 'i-b pr']\"):\n",
    "    dep.append(i.text.replace(\"/n\",\"new line\"))"
   ]
  },
  {
   "cell_type": "code",
   "execution_count": 164,
   "id": "75c87497",
   "metadata": {},
   "outputs": [
    {
     "data": {
      "text/plain": [
       "152"
      ]
     },
     "execution_count": 164,
     "metadata": {},
     "output_type": "execute_result"
    }
   ],
   "source": [
    "len(dep)"
   ]
  },
  {
   "cell_type": "code",
   "execution_count": 165,
   "id": "e1ff9baa",
   "metadata": {},
   "outputs": [],
   "source": [
    "arr = []\n",
    "for i in driver.find_elements_by_xpath(\"//p[@class= 'bold fs-15 mb-2 pr time']\"):\n",
    "    arr.append(i.text.replace(\"/n\",\"new line\"))"
   ]
  },
  {
   "cell_type": "code",
   "execution_count": 167,
   "id": "94fcbc81",
   "metadata": {},
   "outputs": [
    {
     "data": {
      "text/plain": [
       "152"
      ]
     },
     "execution_count": 167,
     "metadata": {},
     "output_type": "execute_result"
    }
   ],
   "source": [
    "len(arr)"
   ]
  },
  {
   "cell_type": "code",
   "execution_count": 168,
   "id": "02cd46a9",
   "metadata": {},
   "outputs": [],
   "source": [
    "stops = []\n",
    "for i in driver.find_elements_by_xpath(\"//div[@class= ' font-lightgrey fs-10 tipsy i-b fs-10']\"):\n",
    "    stops.append(i.text.replace(\"/n\",\"new line\"))"
   ]
  },
  {
   "cell_type": "code",
   "execution_count": 170,
   "id": "d7b3ef30",
   "metadata": {},
   "outputs": [
    {
     "data": {
      "text/plain": [
       "152"
      ]
     },
     "execution_count": 170,
     "metadata": {},
     "output_type": "execute_result"
    }
   ],
   "source": [
    "len(stops)"
   ]
  },
  {
   "cell_type": "code",
   "execution_count": 171,
   "id": "2ff8899a",
   "metadata": {},
   "outputs": [],
   "source": [
    "dur = []\n",
    "for i in driver.find_elements_by_xpath(\"//p[@class= 'fs-12 bold du mb-2']\"):\n",
    "    dur.append(i.text.replace(\"/n\",\"new line\"))"
   ]
  },
  {
   "cell_type": "code",
   "execution_count": 173,
   "id": "dd1ef2b8",
   "metadata": {},
   "outputs": [
    {
     "data": {
      "text/plain": [
       "152"
      ]
     },
     "execution_count": 173,
     "metadata": {},
     "output_type": "execute_result"
    }
   ],
   "source": [
    "len(dur)"
   ]
  },
  {
   "cell_type": "code",
   "execution_count": 174,
   "id": "76a41287",
   "metadata": {},
   "outputs": [],
   "source": [
    "price = []\n",
    "for i in driver.find_elements_by_xpath(\"//div[@class= 'i-b tipsy fare-summary-tooltip fs-18']\"):\n",
    "    price.append(i.text.replace(\"/n\",\"new line\"))"
   ]
  },
  {
   "cell_type": "code",
   "execution_count": 176,
   "id": "b44c6253",
   "metadata": {},
   "outputs": [
    {
     "data": {
      "text/plain": [
       "152"
      ]
     },
     "execution_count": 176,
     "metadata": {},
     "output_type": "execute_result"
    }
   ],
   "source": [
    "len(price)"
   ]
  },
  {
   "cell_type": "code",
   "execution_count": 177,
   "id": "e3551b34",
   "metadata": {},
   "outputs": [],
   "source": [
    "flight5 = pd.DataFrame({\"Airline Name\": name, \"Source\": sou, \"Departure Time\": dep, \"Destination\": dest, \"Arrival Time\": arr,\n",
    "                       \"Stops\": stops, \"Duration\": dur, \"Flight Price\": price})"
   ]
  },
  {
   "cell_type": "code",
   "execution_count": 179,
   "id": "a80db83b",
   "metadata": {},
   "outputs": [],
   "source": [
    "flight5 = flight5.to_csv('flight5.csv')"
   ]
  },
  {
   "cell_type": "code",
   "execution_count": 3,
   "id": "21e78049",
   "metadata": {},
   "outputs": [],
   "source": [
    "driver.get('https://flight.yatra.com/air-search-ui/dom2/trigger?type=O&viewName=normal&flexi=0&noOfSegments=1&origin=BOM&originCountry=IN&destination=BLR&destinationCountry=IN&flight_depart_date=15%2F03%2F2022&ADT=1&CHD=0&INF=0&class=Economy&source=fresco-home&unqvaldesktop=1389756269010')"
   ]
  },
  {
   "cell_type": "code",
   "execution_count": 4,
   "id": "48f1d37a",
   "metadata": {},
   "outputs": [],
   "source": [
    "name = []\n",
    "for i in driver.find_elements_by_xpath(\"//span[@class= 'i-b text ellipsis']\"):\n",
    "    name.append(i.text.replace(\"/n\",\"new line\"))"
   ]
  },
  {
   "cell_type": "code",
   "execution_count": 6,
   "id": "cff19e3a",
   "metadata": {},
   "outputs": [
    {
     "data": {
      "text/plain": [
       "133"
      ]
     },
     "execution_count": 6,
     "metadata": {},
     "output_type": "execute_result"
    }
   ],
   "source": [
    "len(name)"
   ]
  },
  {
   "cell_type": "code",
   "execution_count": 7,
   "id": "5d275862",
   "metadata": {},
   "outputs": [],
   "source": [
    "source = []\n",
    "for i in driver.find_elements_by_xpath(\"//p[@class= 'fs-10 font-lightgrey no-wrap city ellipsis']\"):\n",
    "    source.append(i.text.replace(\"/n\",\"new line\"))"
   ]
  },
  {
   "cell_type": "code",
   "execution_count": 13,
   "id": "f5f8bfa5",
   "metadata": {},
   "outputs": [
    {
     "data": {
      "text/plain": [
       "266"
      ]
     },
     "execution_count": 13,
     "metadata": {},
     "output_type": "execute_result"
    }
   ],
   "source": [
    "len(source)"
   ]
  },
  {
   "cell_type": "code",
   "execution_count": 10,
   "id": "abece5ba",
   "metadata": {},
   "outputs": [
    {
     "data": {
      "text/plain": [
       "133"
      ]
     },
     "execution_count": 10,
     "metadata": {},
     "output_type": "execute_result"
    }
   ],
   "source": [
    "sou = source[::2]\n",
    "len(sou)"
   ]
  },
  {
   "cell_type": "code",
   "execution_count": 12,
   "id": "e92ce313",
   "metadata": {},
   "outputs": [
    {
     "data": {
      "text/plain": [
       "133"
      ]
     },
     "execution_count": 12,
     "metadata": {},
     "output_type": "execute_result"
    }
   ],
   "source": [
    "dest = source[1::2]\n",
    "len(dest)"
   ]
  },
  {
   "cell_type": "code",
   "execution_count": 14,
   "id": "78bf6d59",
   "metadata": {},
   "outputs": [],
   "source": [
    "dep = []\n",
    "for i in driver.find_elements_by_xpath(\"//div[@class= 'i-b pr']\"):\n",
    "    dep.append(i.text.replace(\"/n\",\"new line\"))"
   ]
  },
  {
   "cell_type": "code",
   "execution_count": 16,
   "id": "09fcf224",
   "metadata": {},
   "outputs": [
    {
     "data": {
      "text/plain": [
       "133"
      ]
     },
     "execution_count": 16,
     "metadata": {},
     "output_type": "execute_result"
    }
   ],
   "source": [
    "len(dep)"
   ]
  },
  {
   "cell_type": "code",
   "execution_count": 17,
   "id": "2349ecf5",
   "metadata": {},
   "outputs": [],
   "source": [
    "arr = []\n",
    "for i in driver.find_elements_by_xpath(\"//p[@class= 'bold fs-15 mb-2 pr time']\"):\n",
    "    arr.append(i.text.replace(\"/n\",\"new line\"))"
   ]
  },
  {
   "cell_type": "code",
   "execution_count": 19,
   "id": "a753ccd2",
   "metadata": {},
   "outputs": [
    {
     "data": {
      "text/plain": [
       "133"
      ]
     },
     "execution_count": 19,
     "metadata": {},
     "output_type": "execute_result"
    }
   ],
   "source": [
    "len(arr)"
   ]
  },
  {
   "cell_type": "code",
   "execution_count": 20,
   "id": "4069e8e9",
   "metadata": {},
   "outputs": [],
   "source": [
    "stops = []\n",
    "for i in driver.find_elements_by_xpath(\"//div[@class= ' font-lightgrey fs-10 tipsy i-b fs-10']\"):\n",
    "    stops.append(i.text.replace(\"/n\",\"new line\"))"
   ]
  },
  {
   "cell_type": "code",
   "execution_count": 22,
   "id": "b54f7ab1",
   "metadata": {},
   "outputs": [
    {
     "data": {
      "text/plain": [
       "133"
      ]
     },
     "execution_count": 22,
     "metadata": {},
     "output_type": "execute_result"
    }
   ],
   "source": [
    "len(stops)"
   ]
  },
  {
   "cell_type": "code",
   "execution_count": 23,
   "id": "0eb16781",
   "metadata": {},
   "outputs": [],
   "source": [
    "dur = []\n",
    "for i in driver.find_elements_by_xpath(\"//p[@class= 'fs-12 bold du mb-2']\"):\n",
    "    dur.append(i.text.replace(\"/n\",\"new line\"))"
   ]
  },
  {
   "cell_type": "code",
   "execution_count": 25,
   "id": "0ef69de9",
   "metadata": {},
   "outputs": [
    {
     "data": {
      "text/plain": [
       "133"
      ]
     },
     "execution_count": 25,
     "metadata": {},
     "output_type": "execute_result"
    }
   ],
   "source": [
    "len(dur)"
   ]
  },
  {
   "cell_type": "code",
   "execution_count": 26,
   "id": "26b0f6a3",
   "metadata": {},
   "outputs": [],
   "source": [
    "price = []\n",
    "for i in driver.find_elements_by_xpath(\"//div[@class= 'i-b tipsy fare-summary-tooltip fs-18']\"):\n",
    "    price.append(i.text.replace(\"/n\",\"new line\"))"
   ]
  },
  {
   "cell_type": "code",
   "execution_count": 28,
   "id": "9881ab48",
   "metadata": {},
   "outputs": [
    {
     "data": {
      "text/plain": [
       "133"
      ]
     },
     "execution_count": 28,
     "metadata": {},
     "output_type": "execute_result"
    }
   ],
   "source": [
    "len(price)"
   ]
  },
  {
   "cell_type": "code",
   "execution_count": 29,
   "id": "7c86fb86",
   "metadata": {},
   "outputs": [],
   "source": [
    "flight6 = pd.DataFrame({\"Airline Name\": name, \"Source\": sou, \"Departure Time\": dep, \"Destination\": dest, \"Arrival Time\": arr,\n",
    "                       \"Stops\": stops, \"Duration\": dur, \"Flight Price\": price})"
   ]
  },
  {
   "cell_type": "code",
   "execution_count": 31,
   "id": "e2aac5e6",
   "metadata": {},
   "outputs": [],
   "source": [
    "flight6 = flight6.to_csv('flight6.csv')"
   ]
  },
  {
   "cell_type": "code",
   "execution_count": 32,
   "id": "7ce7c0d7",
   "metadata": {},
   "outputs": [],
   "source": [
    "driver.get('https://flight.yatra.com/air-search-ui/dom2/trigger?type=O&viewName=normal&flexi=0&noOfSegments=1&origin=BOM&originCountry=IN&destination=MAA&destinationCountry=IN&flight_depart_date=15%2F03%2F2022&ADT=1&CHD=0&INF=0&class=Economy&source=fresco-home&unqvaldesktop=1222692412236')"
   ]
  },
  {
   "cell_type": "code",
   "execution_count": 33,
   "id": "e41eb754",
   "metadata": {},
   "outputs": [],
   "source": [
    "name = []\n",
    "for i in driver.find_elements_by_xpath(\"//span[@class= 'i-b text ellipsis']\"):\n",
    "    name.append(i.text.replace(\"/n\",\"new line\"))"
   ]
  },
  {
   "cell_type": "code",
   "execution_count": 35,
   "id": "6c9400c2",
   "metadata": {},
   "outputs": [
    {
     "data": {
      "text/plain": [
       "98"
      ]
     },
     "execution_count": 35,
     "metadata": {},
     "output_type": "execute_result"
    }
   ],
   "source": [
    "len(name)"
   ]
  },
  {
   "cell_type": "code",
   "execution_count": 36,
   "id": "bf1f9fc1",
   "metadata": {},
   "outputs": [],
   "source": [
    "source = []\n",
    "for i in driver.find_elements_by_xpath(\"//p[@class= 'fs-10 font-lightgrey no-wrap city ellipsis']\"):\n",
    "    source.append(i.text.replace(\"/n\",\"new line\"))"
   ]
  },
  {
   "cell_type": "code",
   "execution_count": 42,
   "id": "3671c806",
   "metadata": {},
   "outputs": [
    {
     "data": {
      "text/plain": [
       "196"
      ]
     },
     "execution_count": 42,
     "metadata": {},
     "output_type": "execute_result"
    }
   ],
   "source": [
    "len(source)"
   ]
  },
  {
   "cell_type": "code",
   "execution_count": 39,
   "id": "2e475b44",
   "metadata": {},
   "outputs": [
    {
     "data": {
      "text/plain": [
       "98"
      ]
     },
     "execution_count": 39,
     "metadata": {},
     "output_type": "execute_result"
    }
   ],
   "source": [
    "sou = source[::2]\n",
    "len(sou)"
   ]
  },
  {
   "cell_type": "code",
   "execution_count": 41,
   "id": "8bc79d5c",
   "metadata": {},
   "outputs": [
    {
     "data": {
      "text/plain": [
       "98"
      ]
     },
     "execution_count": 41,
     "metadata": {},
     "output_type": "execute_result"
    }
   ],
   "source": [
    "dest = source[1::2]\n",
    "len(dest)"
   ]
  },
  {
   "cell_type": "code",
   "execution_count": 43,
   "id": "3d709663",
   "metadata": {},
   "outputs": [],
   "source": [
    "dep = []\n",
    "for i in driver.find_elements_by_xpath(\"//div[@class= 'i-b pr']\"):\n",
    "    dep.append(i.text.replace(\"/n\",\"new line\"))"
   ]
  },
  {
   "cell_type": "code",
   "execution_count": 45,
   "id": "05af7f38",
   "metadata": {},
   "outputs": [
    {
     "data": {
      "text/plain": [
       "98"
      ]
     },
     "execution_count": 45,
     "metadata": {},
     "output_type": "execute_result"
    }
   ],
   "source": [
    "len(dep)"
   ]
  },
  {
   "cell_type": "code",
   "execution_count": 46,
   "id": "e60d3c8b",
   "metadata": {},
   "outputs": [],
   "source": [
    "arr = []\n",
    "for i in driver.find_elements_by_xpath(\"//p[@class= 'bold fs-15 mb-2 pr time']\"):\n",
    "    arr.append(i.text.replace(\"/n\",\"new line\"))"
   ]
  },
  {
   "cell_type": "code",
   "execution_count": 48,
   "id": "9834fcc9",
   "metadata": {},
   "outputs": [
    {
     "data": {
      "text/plain": [
       "98"
      ]
     },
     "execution_count": 48,
     "metadata": {},
     "output_type": "execute_result"
    }
   ],
   "source": [
    "len(arr)"
   ]
  },
  {
   "cell_type": "code",
   "execution_count": 49,
   "id": "92958d03",
   "metadata": {},
   "outputs": [],
   "source": [
    "stops = []\n",
    "for i in driver.find_elements_by_xpath(\"//div[@class= ' font-lightgrey fs-10 tipsy i-b fs-10']\"):\n",
    "    stops.append(i.text.replace(\"/n\",\"new line\"))"
   ]
  },
  {
   "cell_type": "code",
   "execution_count": 51,
   "id": "abb8d735",
   "metadata": {},
   "outputs": [
    {
     "data": {
      "text/plain": [
       "98"
      ]
     },
     "execution_count": 51,
     "metadata": {},
     "output_type": "execute_result"
    }
   ],
   "source": [
    "len(stops)"
   ]
  },
  {
   "cell_type": "code",
   "execution_count": 52,
   "id": "9079f466",
   "metadata": {},
   "outputs": [],
   "source": [
    "dur = []\n",
    "for i in driver.find_elements_by_xpath(\"//p[@class= 'fs-12 bold du mb-2']\"):\n",
    "    dur.append(i.text.replace(\"/n\",\"new line\"))"
   ]
  },
  {
   "cell_type": "code",
   "execution_count": 54,
   "id": "52ea7bda",
   "metadata": {},
   "outputs": [
    {
     "data": {
      "text/plain": [
       "98"
      ]
     },
     "execution_count": 54,
     "metadata": {},
     "output_type": "execute_result"
    }
   ],
   "source": [
    "len(dur)"
   ]
  },
  {
   "cell_type": "code",
   "execution_count": 55,
   "id": "92b05cec",
   "metadata": {},
   "outputs": [],
   "source": [
    "price = []\n",
    "for i in driver.find_elements_by_xpath(\"//div[@class= 'i-b tipsy fare-summary-tooltip fs-18']\"):\n",
    "    price.append(i.text.replace(\"/n\",\"new line\"))"
   ]
  },
  {
   "cell_type": "code",
   "execution_count": 57,
   "id": "1b209d79",
   "metadata": {},
   "outputs": [
    {
     "data": {
      "text/plain": [
       "98"
      ]
     },
     "execution_count": 57,
     "metadata": {},
     "output_type": "execute_result"
    }
   ],
   "source": [
    "len(price)"
   ]
  },
  {
   "cell_type": "code",
   "execution_count": 58,
   "id": "7b6ffd36",
   "metadata": {},
   "outputs": [],
   "source": [
    "flight7 = pd.DataFrame({\"Airline Name\": name, \"Source\": sou, \"Departure Time\": dep, \"Destination\": dest, \"Arrival Time\": arr,\n",
    "                       \"Stops\": stops, \"Duration\": dur, \"Flight Price\": price})"
   ]
  },
  {
   "cell_type": "code",
   "execution_count": 60,
   "id": "0e5a47e3",
   "metadata": {},
   "outputs": [],
   "source": [
    "flight7 = flight7.to_csv('flight7.csv')"
   ]
  },
  {
   "cell_type": "code",
   "execution_count": 61,
   "id": "a989c38c",
   "metadata": {},
   "outputs": [],
   "source": [
    "driver.get('https://flight.yatra.com/air-search-ui/dom2/trigger?type=O&viewName=normal&flexi=0&noOfSegments=1&origin=BOM&originCountry=IN&destination=HYD&destinationCountry=IN&flight_depart_date=15%2F03%2F2022&ADT=1&CHD=0&INF=0&class=Economy&source=fresco-home&unqvaldesktop=236987038582')"
   ]
  },
  {
   "cell_type": "code",
   "execution_count": 62,
   "id": "00b645b4",
   "metadata": {},
   "outputs": [],
   "source": [
    "name = []\n",
    "for i in driver.find_elements_by_xpath(\"//span[@class= 'i-b text ellipsis']\"):\n",
    "    name.append(i.text.replace(\"/n\",\"new line\"))"
   ]
  },
  {
   "cell_type": "code",
   "execution_count": 64,
   "id": "562dbd57",
   "metadata": {},
   "outputs": [
    {
     "data": {
      "text/plain": [
       "88"
      ]
     },
     "execution_count": 64,
     "metadata": {},
     "output_type": "execute_result"
    }
   ],
   "source": [
    "len(name)"
   ]
  },
  {
   "cell_type": "code",
   "execution_count": 65,
   "id": "a3bc3009",
   "metadata": {},
   "outputs": [],
   "source": [
    "source = []\n",
    "for i in driver.find_elements_by_xpath(\"//p[@class= 'fs-10 font-lightgrey no-wrap city ellipsis']\"):\n",
    "    source.append(i.text.replace(\"/n\",\"new line\"))"
   ]
  },
  {
   "cell_type": "code",
   "execution_count": 71,
   "id": "940bb382",
   "metadata": {},
   "outputs": [
    {
     "data": {
      "text/plain": [
       "176"
      ]
     },
     "execution_count": 71,
     "metadata": {},
     "output_type": "execute_result"
    }
   ],
   "source": [
    "len(source)"
   ]
  },
  {
   "cell_type": "code",
   "execution_count": 68,
   "id": "e6e15e99",
   "metadata": {},
   "outputs": [
    {
     "data": {
      "text/plain": [
       "88"
      ]
     },
     "execution_count": 68,
     "metadata": {},
     "output_type": "execute_result"
    }
   ],
   "source": [
    "sou = source[::2]\n",
    "len(sou)"
   ]
  },
  {
   "cell_type": "code",
   "execution_count": 70,
   "id": "bb0b26aa",
   "metadata": {},
   "outputs": [
    {
     "data": {
      "text/plain": [
       "88"
      ]
     },
     "execution_count": 70,
     "metadata": {},
     "output_type": "execute_result"
    }
   ],
   "source": [
    "dest = source[1::2]\n",
    "len(dest)"
   ]
  },
  {
   "cell_type": "code",
   "execution_count": 72,
   "id": "dd51b529",
   "metadata": {},
   "outputs": [],
   "source": [
    "dep = []\n",
    "for i in driver.find_elements_by_xpath(\"//div[@class= 'i-b pr']\"):\n",
    "    dep.append(i.text.replace(\"/n\",\"new line\"))"
   ]
  },
  {
   "cell_type": "code",
   "execution_count": 74,
   "id": "00b7e401",
   "metadata": {},
   "outputs": [
    {
     "data": {
      "text/plain": [
       "88"
      ]
     },
     "execution_count": 74,
     "metadata": {},
     "output_type": "execute_result"
    }
   ],
   "source": [
    "len(dep)"
   ]
  },
  {
   "cell_type": "code",
   "execution_count": 75,
   "id": "23df27d3",
   "metadata": {},
   "outputs": [],
   "source": [
    "arr = []\n",
    "for i in driver.find_elements_by_xpath(\"//p[@class= 'bold fs-15 mb-2 pr time']\"):\n",
    "    arr.append(i.text.replace(\"/n\",\"new line\"))"
   ]
  },
  {
   "cell_type": "code",
   "execution_count": 77,
   "id": "8839f9ff",
   "metadata": {},
   "outputs": [
    {
     "data": {
      "text/plain": [
       "88"
      ]
     },
     "execution_count": 77,
     "metadata": {},
     "output_type": "execute_result"
    }
   ],
   "source": [
    "len(arr)"
   ]
  },
  {
   "cell_type": "code",
   "execution_count": 78,
   "id": "4c31762d",
   "metadata": {},
   "outputs": [],
   "source": [
    "stops = []\n",
    "for i in driver.find_elements_by_xpath(\"//div[@class= ' font-lightgrey fs-10 tipsy i-b fs-10']\"):\n",
    "    stops.append(i.text.replace(\"/n\",\"new line\"))"
   ]
  },
  {
   "cell_type": "code",
   "execution_count": 80,
   "id": "eeadf12e",
   "metadata": {},
   "outputs": [
    {
     "data": {
      "text/plain": [
       "88"
      ]
     },
     "execution_count": 80,
     "metadata": {},
     "output_type": "execute_result"
    }
   ],
   "source": [
    "len(stops)"
   ]
  },
  {
   "cell_type": "code",
   "execution_count": 81,
   "id": "ca39aafa",
   "metadata": {},
   "outputs": [],
   "source": [
    "dur = []\n",
    "for i in driver.find_elements_by_xpath(\"//p[@class= 'fs-12 bold du mb-2']\"):\n",
    "    dur.append(i.text.replace(\"/n\",\"new line\"))"
   ]
  },
  {
   "cell_type": "code",
   "execution_count": 83,
   "id": "087ea3ed",
   "metadata": {},
   "outputs": [
    {
     "data": {
      "text/plain": [
       "88"
      ]
     },
     "execution_count": 83,
     "metadata": {},
     "output_type": "execute_result"
    }
   ],
   "source": [
    "len(dur)"
   ]
  },
  {
   "cell_type": "code",
   "execution_count": 84,
   "id": "f1c5a021",
   "metadata": {},
   "outputs": [],
   "source": [
    "price = []\n",
    "for i in driver.find_elements_by_xpath(\"//div[@class= 'i-b tipsy fare-summary-tooltip fs-18']\"):\n",
    "    price.append(i.text.replace(\"/n\",\"new line\"))"
   ]
  },
  {
   "cell_type": "code",
   "execution_count": 86,
   "id": "ed4b5bbf",
   "metadata": {},
   "outputs": [
    {
     "data": {
      "text/plain": [
       "88"
      ]
     },
     "execution_count": 86,
     "metadata": {},
     "output_type": "execute_result"
    }
   ],
   "source": [
    "len(price)"
   ]
  },
  {
   "cell_type": "code",
   "execution_count": 87,
   "id": "5a1fb9c9",
   "metadata": {},
   "outputs": [],
   "source": [
    "flight8 = pd.DataFrame({\"Airline Name\": name, \"Source\": sou, \"Departure Time\": dep, \"Destination\": dest, \"Arrival Time\": arr,\n",
    "                       \"Stops\": stops, \"Duration\": dur, \"Flight Price\": price})"
   ]
  },
  {
   "cell_type": "code",
   "execution_count": 89,
   "id": "635d6c46",
   "metadata": {},
   "outputs": [],
   "source": [
    "flight8 = flight8.to_csv('flight8.csv')"
   ]
  },
  {
   "cell_type": "code",
   "execution_count": 90,
   "id": "ee46a22e",
   "metadata": {},
   "outputs": [],
   "source": [
    "driver.get('https://flight.yatra.com/air-search-ui/dom2/trigger?type=O&viewName=normal&flexi=0&noOfSegments=1&origin=CCU&originCountry=IN&destination=DEL&destinationCountry=IN&flight_depart_date=15%2F03%2F2022&ADT=1&CHD=0&INF=0&class=Economy&source=fresco-home&unqvaldesktop=191258999757')"
   ]
  },
  {
   "cell_type": "code",
   "execution_count": 91,
   "id": "286fca3d",
   "metadata": {},
   "outputs": [],
   "source": [
    "name = []\n",
    "for i in driver.find_elements_by_xpath(\"//span[@class= 'i-b text ellipsis']\"):\n",
    "    name.append(i.text.replace(\"/n\",\"new line\"))"
   ]
  },
  {
   "cell_type": "code",
   "execution_count": 93,
   "id": "6fcf7bc3",
   "metadata": {},
   "outputs": [
    {
     "data": {
      "text/plain": [
       "136"
      ]
     },
     "execution_count": 93,
     "metadata": {},
     "output_type": "execute_result"
    }
   ],
   "source": [
    "len(name)"
   ]
  },
  {
   "cell_type": "code",
   "execution_count": 94,
   "id": "74fa04fd",
   "metadata": {},
   "outputs": [],
   "source": [
    "source = []\n",
    "for i in driver.find_elements_by_xpath(\"//p[@class= 'fs-10 font-lightgrey no-wrap city ellipsis']\"):\n",
    "    source.append(i.text.replace(\"/n\",\"new line\"))"
   ]
  },
  {
   "cell_type": "code",
   "execution_count": 100,
   "id": "af6bab28",
   "metadata": {},
   "outputs": [
    {
     "data": {
      "text/plain": [
       "272"
      ]
     },
     "execution_count": 100,
     "metadata": {},
     "output_type": "execute_result"
    }
   ],
   "source": [
    "len(source)"
   ]
  },
  {
   "cell_type": "code",
   "execution_count": 97,
   "id": "e86bf427",
   "metadata": {},
   "outputs": [
    {
     "data": {
      "text/plain": [
       "136"
      ]
     },
     "execution_count": 97,
     "metadata": {},
     "output_type": "execute_result"
    }
   ],
   "source": [
    "sou = source[::2]\n",
    "len(sou)"
   ]
  },
  {
   "cell_type": "code",
   "execution_count": 99,
   "id": "d4463842",
   "metadata": {},
   "outputs": [
    {
     "data": {
      "text/plain": [
       "136"
      ]
     },
     "execution_count": 99,
     "metadata": {},
     "output_type": "execute_result"
    }
   ],
   "source": [
    "dest = source[1::2]\n",
    "len(dest)"
   ]
  },
  {
   "cell_type": "code",
   "execution_count": 101,
   "id": "73acddc5",
   "metadata": {},
   "outputs": [],
   "source": [
    "dep = []\n",
    "for i in driver.find_elements_by_xpath(\"//div[@class= 'i-b pr']\"):\n",
    "    dep.append(i.text.replace(\"/n\",\"new line\"))"
   ]
  },
  {
   "cell_type": "code",
   "execution_count": 103,
   "id": "dc55d28a",
   "metadata": {},
   "outputs": [
    {
     "data": {
      "text/plain": [
       "136"
      ]
     },
     "execution_count": 103,
     "metadata": {},
     "output_type": "execute_result"
    }
   ],
   "source": [
    "len(dep)"
   ]
  },
  {
   "cell_type": "code",
   "execution_count": 104,
   "id": "bad70d00",
   "metadata": {},
   "outputs": [],
   "source": [
    "arr = []\n",
    "for i in driver.find_elements_by_xpath(\"//p[@class= 'bold fs-15 mb-2 pr time']\"):\n",
    "    arr.append(i.text.replace(\"/n\",\"new line\"))"
   ]
  },
  {
   "cell_type": "code",
   "execution_count": 106,
   "id": "f62b04e2",
   "metadata": {},
   "outputs": [
    {
     "data": {
      "text/plain": [
       "136"
      ]
     },
     "execution_count": 106,
     "metadata": {},
     "output_type": "execute_result"
    }
   ],
   "source": [
    "len(arr)"
   ]
  },
  {
   "cell_type": "code",
   "execution_count": 107,
   "id": "61239005",
   "metadata": {},
   "outputs": [],
   "source": [
    "stops = []\n",
    "for i in driver.find_elements_by_xpath(\"//div[@class= ' font-lightgrey fs-10 tipsy i-b fs-10']\"):\n",
    "    stops.append(i.text.replace(\"/n\",\"new line\"))"
   ]
  },
  {
   "cell_type": "code",
   "execution_count": 109,
   "id": "613d60a8",
   "metadata": {},
   "outputs": [
    {
     "data": {
      "text/plain": [
       "136"
      ]
     },
     "execution_count": 109,
     "metadata": {},
     "output_type": "execute_result"
    }
   ],
   "source": [
    "len(stops)"
   ]
  },
  {
   "cell_type": "code",
   "execution_count": 110,
   "id": "c4e058e1",
   "metadata": {},
   "outputs": [],
   "source": [
    "dur = []\n",
    "for i in driver.find_elements_by_xpath(\"//p[@class= 'fs-12 bold du mb-2']\"):\n",
    "    dur.append(i.text.replace(\"/n\",\"new line\"))"
   ]
  },
  {
   "cell_type": "code",
   "execution_count": 112,
   "id": "54e5f442",
   "metadata": {},
   "outputs": [
    {
     "data": {
      "text/plain": [
       "136"
      ]
     },
     "execution_count": 112,
     "metadata": {},
     "output_type": "execute_result"
    }
   ],
   "source": [
    "len(dur)"
   ]
  },
  {
   "cell_type": "code",
   "execution_count": 113,
   "id": "4118e12d",
   "metadata": {},
   "outputs": [],
   "source": [
    "price = []\n",
    "for i in driver.find_elements_by_xpath(\"//div[@class= 'i-b tipsy fare-summary-tooltip fs-18']\"):\n",
    "    price.append(i.text.replace(\"/n\",\"new line\"))"
   ]
  },
  {
   "cell_type": "code",
   "execution_count": 115,
   "id": "8fec380f",
   "metadata": {},
   "outputs": [
    {
     "data": {
      "text/plain": [
       "136"
      ]
     },
     "execution_count": 115,
     "metadata": {},
     "output_type": "execute_result"
    }
   ],
   "source": [
    "len(price)"
   ]
  },
  {
   "cell_type": "code",
   "execution_count": 116,
   "id": "7ac3657b",
   "metadata": {},
   "outputs": [],
   "source": [
    "flight9 = pd.DataFrame({\"Airline Name\": name, \"Source\": sou, \"Departure Time\": dep, \"Destination\": dest, \"Arrival Time\": arr,\n",
    "                       \"Stops\": stops, \"Duration\": dur, \"Flight Price\": price})"
   ]
  },
  {
   "cell_type": "code",
   "execution_count": 118,
   "id": "7eb001ca",
   "metadata": {},
   "outputs": [],
   "source": [
    "flight9 = flight9.to_csv('flight9.csv')"
   ]
  },
  {
   "cell_type": "code",
   "execution_count": 119,
   "id": "3906ac02",
   "metadata": {},
   "outputs": [],
   "source": [
    "driver.get('https://flight.yatra.com/air-search-ui/dom2/trigger?type=O&viewName=normal&flexi=0&noOfSegments=1&origin=CCU&originCountry=IN&destination=BOM&destinationCountry=IN&flight_depart_date=15%2F03%2F2022&ADT=1&CHD=0&INF=0&class=Economy&source=fresco-home&unqvaldesktop=587006215801')"
   ]
  },
  {
   "cell_type": "code",
   "execution_count": 120,
   "id": "36fc3283",
   "metadata": {},
   "outputs": [],
   "source": [
    "name = []\n",
    "for i in driver.find_elements_by_xpath(\"//span[@class= 'i-b text ellipsis']\"):\n",
    "    name.append(i.text.replace(\"/n\",\"new line\"))"
   ]
  },
  {
   "cell_type": "code",
   "execution_count": 122,
   "id": "97c50084",
   "metadata": {},
   "outputs": [
    {
     "data": {
      "text/plain": [
       "127"
      ]
     },
     "execution_count": 122,
     "metadata": {},
     "output_type": "execute_result"
    }
   ],
   "source": [
    "len(name)"
   ]
  },
  {
   "cell_type": "code",
   "execution_count": 123,
   "id": "27117ab1",
   "metadata": {},
   "outputs": [],
   "source": [
    "source = []\n",
    "for i in driver.find_elements_by_xpath(\"//p[@class= 'fs-10 font-lightgrey no-wrap city ellipsis']\"):\n",
    "    source.append(i.text.replace(\"/n\",\"new line\"))"
   ]
  },
  {
   "cell_type": "code",
   "execution_count": 129,
   "id": "a5a636ab",
   "metadata": {},
   "outputs": [
    {
     "data": {
      "text/plain": [
       "254"
      ]
     },
     "execution_count": 129,
     "metadata": {},
     "output_type": "execute_result"
    }
   ],
   "source": [
    "len(source)"
   ]
  },
  {
   "cell_type": "code",
   "execution_count": 126,
   "id": "b421a48f",
   "metadata": {},
   "outputs": [
    {
     "data": {
      "text/plain": [
       "127"
      ]
     },
     "execution_count": 126,
     "metadata": {},
     "output_type": "execute_result"
    }
   ],
   "source": [
    "sou = source[::2]\n",
    "len(sou)"
   ]
  },
  {
   "cell_type": "code",
   "execution_count": 128,
   "id": "d3a151c8",
   "metadata": {},
   "outputs": [
    {
     "data": {
      "text/plain": [
       "127"
      ]
     },
     "execution_count": 128,
     "metadata": {},
     "output_type": "execute_result"
    }
   ],
   "source": [
    "dest = source[1::2]\n",
    "len(dest)"
   ]
  },
  {
   "cell_type": "code",
   "execution_count": 130,
   "id": "ddb75ab7",
   "metadata": {},
   "outputs": [],
   "source": [
    "dep = []\n",
    "for i in driver.find_elements_by_xpath(\"//div[@class= 'i-b pr']\"):\n",
    "    dep.append(i.text.replace(\"/n\",\"new line\"))"
   ]
  },
  {
   "cell_type": "code",
   "execution_count": 132,
   "id": "aa34391d",
   "metadata": {},
   "outputs": [
    {
     "data": {
      "text/plain": [
       "127"
      ]
     },
     "execution_count": 132,
     "metadata": {},
     "output_type": "execute_result"
    }
   ],
   "source": [
    "len(dep)"
   ]
  },
  {
   "cell_type": "code",
   "execution_count": 133,
   "id": "1f5daeb6",
   "metadata": {},
   "outputs": [],
   "source": [
    "arr = []\n",
    "for i in driver.find_elements_by_xpath(\"//p[@class= 'bold fs-15 mb-2 pr time']\"):\n",
    "    arr.append(i.text.replace(\"/n\",\"new line\"))"
   ]
  },
  {
   "cell_type": "code",
   "execution_count": 135,
   "id": "5917d843",
   "metadata": {},
   "outputs": [
    {
     "data": {
      "text/plain": [
       "127"
      ]
     },
     "execution_count": 135,
     "metadata": {},
     "output_type": "execute_result"
    }
   ],
   "source": [
    "len(arr)"
   ]
  },
  {
   "cell_type": "code",
   "execution_count": 136,
   "id": "0fea4104",
   "metadata": {},
   "outputs": [],
   "source": [
    "stops = []\n",
    "for i in driver.find_elements_by_xpath(\"//div[@class= ' font-lightgrey fs-10 tipsy i-b fs-10']\"):\n",
    "    stops.append(i.text.replace(\"/n\",\"new line\"))"
   ]
  },
  {
   "cell_type": "code",
   "execution_count": 138,
   "id": "7864c926",
   "metadata": {},
   "outputs": [
    {
     "data": {
      "text/plain": [
       "127"
      ]
     },
     "execution_count": 138,
     "metadata": {},
     "output_type": "execute_result"
    }
   ],
   "source": [
    "len(stops)"
   ]
  },
  {
   "cell_type": "code",
   "execution_count": 139,
   "id": "05fb6000",
   "metadata": {},
   "outputs": [],
   "source": [
    "dur = []\n",
    "for i in driver.find_elements_by_xpath(\"//p[@class= 'fs-12 bold du mb-2']\"):\n",
    "    dur.append(i.text.replace(\"/n\",\"new line\"))"
   ]
  },
  {
   "cell_type": "code",
   "execution_count": 141,
   "id": "4c4f7915",
   "metadata": {},
   "outputs": [
    {
     "data": {
      "text/plain": [
       "127"
      ]
     },
     "execution_count": 141,
     "metadata": {},
     "output_type": "execute_result"
    }
   ],
   "source": [
    "len(dur)"
   ]
  },
  {
   "cell_type": "code",
   "execution_count": 142,
   "id": "e692481f",
   "metadata": {},
   "outputs": [],
   "source": [
    "price = []\n",
    "for i in driver.find_elements_by_xpath(\"//div[@class= 'i-b tipsy fare-summary-tooltip fs-18']\"):\n",
    "    price.append(i.text.replace(\"/n\",\"new line\"))"
   ]
  },
  {
   "cell_type": "code",
   "execution_count": 144,
   "id": "c99dca39",
   "metadata": {},
   "outputs": [
    {
     "data": {
      "text/plain": [
       "127"
      ]
     },
     "execution_count": 144,
     "metadata": {},
     "output_type": "execute_result"
    }
   ],
   "source": [
    "len(price)"
   ]
  },
  {
   "cell_type": "code",
   "execution_count": 145,
   "id": "83f6d0ae",
   "metadata": {},
   "outputs": [],
   "source": [
    "flight10 = pd.DataFrame({\"Airline Name\": name, \"Source\": sou, \"Departure Time\": dep, \"Destination\": dest, \"Arrival Time\": arr,\n",
    "                       \"Stops\": stops, \"Duration\": dur, \"Flight Price\": price})"
   ]
  },
  {
   "cell_type": "code",
   "execution_count": 147,
   "id": "8c498341",
   "metadata": {},
   "outputs": [],
   "source": [
    "flight10 = flight10.to_csv('flight10.csv')"
   ]
  },
  {
   "cell_type": "code",
   "execution_count": 148,
   "id": "356c9227",
   "metadata": {},
   "outputs": [],
   "source": [
    "driver.get('https://flight.yatra.com/air-search-ui/dom2/trigger?type=O&viewName=normal&flexi=0&noOfSegments=1&origin=CCU&originCountry=IN&destination=BLR&destinationCountry=IN&flight_depart_date=15%2F03%2F2022&ADT=1&CHD=0&INF=0&class=Economy&source=fresco-home&unqvaldesktop=1592940897381')"
   ]
  },
  {
   "cell_type": "code",
   "execution_count": 149,
   "id": "65c67e4e",
   "metadata": {},
   "outputs": [],
   "source": [
    "name = []\n",
    "for i in driver.find_elements_by_xpath(\"//span[@class= 'i-b text ellipsis']\"):\n",
    "    name.append(i.text.replace(\"/n\",\"new line\"))"
   ]
  },
  {
   "cell_type": "code",
   "execution_count": 151,
   "id": "6b440ab1",
   "metadata": {},
   "outputs": [
    {
     "data": {
      "text/plain": [
       "127"
      ]
     },
     "execution_count": 151,
     "metadata": {},
     "output_type": "execute_result"
    }
   ],
   "source": [
    "len(name)"
   ]
  },
  {
   "cell_type": "code",
   "execution_count": 152,
   "id": "7892324d",
   "metadata": {},
   "outputs": [],
   "source": [
    "source = []\n",
    "for i in driver.find_elements_by_xpath(\"//p[@class= 'fs-10 font-lightgrey no-wrap city ellipsis']\"):\n",
    "    source.append(i.text.replace(\"/n\",\"new line\"))"
   ]
  },
  {
   "cell_type": "code",
   "execution_count": 158,
   "id": "b4c27edb",
   "metadata": {},
   "outputs": [
    {
     "data": {
      "text/plain": [
       "254"
      ]
     },
     "execution_count": 158,
     "metadata": {},
     "output_type": "execute_result"
    }
   ],
   "source": [
    "len(source)"
   ]
  },
  {
   "cell_type": "code",
   "execution_count": 155,
   "id": "94eaf175",
   "metadata": {},
   "outputs": [
    {
     "data": {
      "text/plain": [
       "127"
      ]
     },
     "execution_count": 155,
     "metadata": {},
     "output_type": "execute_result"
    }
   ],
   "source": [
    "sou = source[::2]\n",
    "len(sou)"
   ]
  },
  {
   "cell_type": "code",
   "execution_count": 157,
   "id": "9bfd7dd6",
   "metadata": {},
   "outputs": [
    {
     "data": {
      "text/plain": [
       "127"
      ]
     },
     "execution_count": 157,
     "metadata": {},
     "output_type": "execute_result"
    }
   ],
   "source": [
    "dest = source[1::2]\n",
    "len(dest)"
   ]
  },
  {
   "cell_type": "code",
   "execution_count": 159,
   "id": "afa13a81",
   "metadata": {},
   "outputs": [],
   "source": [
    "dep = []\n",
    "for i in driver.find_elements_by_xpath(\"//div[@class= 'i-b pr']\"):\n",
    "    dep.append(i.text.replace(\"/n\",\"new line\"))"
   ]
  },
  {
   "cell_type": "code",
   "execution_count": 161,
   "id": "79cde227",
   "metadata": {},
   "outputs": [
    {
     "data": {
      "text/plain": [
       "127"
      ]
     },
     "execution_count": 161,
     "metadata": {},
     "output_type": "execute_result"
    }
   ],
   "source": [
    "len(dep)"
   ]
  },
  {
   "cell_type": "code",
   "execution_count": 162,
   "id": "95fa4888",
   "metadata": {},
   "outputs": [],
   "source": [
    "arr = []\n",
    "for i in driver.find_elements_by_xpath(\"//p[@class= 'bold fs-15 mb-2 pr time']\"):\n",
    "    arr.append(i.text.replace(\"/n\",\"new line\"))"
   ]
  },
  {
   "cell_type": "code",
   "execution_count": 164,
   "id": "50652e0b",
   "metadata": {},
   "outputs": [
    {
     "data": {
      "text/plain": [
       "127"
      ]
     },
     "execution_count": 164,
     "metadata": {},
     "output_type": "execute_result"
    }
   ],
   "source": [
    "len(arr)"
   ]
  },
  {
   "cell_type": "code",
   "execution_count": 165,
   "id": "e651ec53",
   "metadata": {},
   "outputs": [],
   "source": [
    "stops = []\n",
    "for i in driver.find_elements_by_xpath(\"//div[@class= ' font-lightgrey fs-10 tipsy i-b fs-10']\"):\n",
    "    stops.append(i.text.replace(\"/n\",\"new line\"))"
   ]
  },
  {
   "cell_type": "code",
   "execution_count": 167,
   "id": "7102dfa0",
   "metadata": {},
   "outputs": [
    {
     "data": {
      "text/plain": [
       "127"
      ]
     },
     "execution_count": 167,
     "metadata": {},
     "output_type": "execute_result"
    }
   ],
   "source": [
    "len(stops)"
   ]
  },
  {
   "cell_type": "code",
   "execution_count": 168,
   "id": "1a6c19c5",
   "metadata": {},
   "outputs": [],
   "source": [
    "dur = []\n",
    "for i in driver.find_elements_by_xpath(\"//p[@class= 'fs-12 bold du mb-2']\"):\n",
    "    dur.append(i.text.replace(\"/n\",\"new line\"))"
   ]
  },
  {
   "cell_type": "code",
   "execution_count": 170,
   "id": "11dbc81c",
   "metadata": {},
   "outputs": [
    {
     "data": {
      "text/plain": [
       "127"
      ]
     },
     "execution_count": 170,
     "metadata": {},
     "output_type": "execute_result"
    }
   ],
   "source": [
    "len(dur)"
   ]
  },
  {
   "cell_type": "code",
   "execution_count": 171,
   "id": "5cb47ba2",
   "metadata": {},
   "outputs": [],
   "source": [
    "price = []\n",
    "for i in driver.find_elements_by_xpath(\"//div[@class= 'i-b tipsy fare-summary-tooltip fs-18']\"):\n",
    "    price.append(i.text.replace(\"/n\",\"new line\"))"
   ]
  },
  {
   "cell_type": "code",
   "execution_count": 173,
   "id": "eb072dd8",
   "metadata": {},
   "outputs": [
    {
     "data": {
      "text/plain": [
       "127"
      ]
     },
     "execution_count": 173,
     "metadata": {},
     "output_type": "execute_result"
    }
   ],
   "source": [
    "len(price)"
   ]
  },
  {
   "cell_type": "code",
   "execution_count": 174,
   "id": "5cfe5169",
   "metadata": {},
   "outputs": [],
   "source": [
    "flight11 = pd.DataFrame({\"Airline Name\": name, \"Source\": sou, \"Departure Time\": dep, \"Destination\": dest, \"Arrival Time\": arr,\n",
    "                       \"Stops\": stops, \"Duration\": dur, \"Flight Price\": price})"
   ]
  },
  {
   "cell_type": "code",
   "execution_count": 176,
   "id": "eb140470",
   "metadata": {},
   "outputs": [],
   "source": [
    "flight11 = flight11.to_csv('flight11.csv')"
   ]
  },
  {
   "cell_type": "code",
   "execution_count": 177,
   "id": "7f564bd7",
   "metadata": {},
   "outputs": [],
   "source": [
    "driver.get('https://flight.yatra.com/air-search-ui/dom2/trigger?type=O&viewName=normal&flexi=0&noOfSegments=1&origin=CCU&originCountry=IN&destination=MAA&destinationCountry=IN&flight_depart_date=15%2F03%2F2022&ADT=1&CHD=0&INF=0&class=Economy&source=fresco-home&unqvaldesktop=1559094894134')"
   ]
  },
  {
   "cell_type": "code",
   "execution_count": 178,
   "id": "7d9041b4",
   "metadata": {},
   "outputs": [],
   "source": [
    "name = []\n",
    "for i in driver.find_elements_by_xpath(\"//span[@class= 'i-b text ellipsis']\"):\n",
    "    name.append(i.text.replace(\"/n\",\"new line\"))"
   ]
  },
  {
   "cell_type": "code",
   "execution_count": 180,
   "id": "e99fec6c",
   "metadata": {},
   "outputs": [
    {
     "data": {
      "text/plain": [
       "98"
      ]
     },
     "execution_count": 180,
     "metadata": {},
     "output_type": "execute_result"
    }
   ],
   "source": [
    "len(name)"
   ]
  },
  {
   "cell_type": "code",
   "execution_count": 181,
   "id": "dbdaa13c",
   "metadata": {},
   "outputs": [],
   "source": [
    "source = []\n",
    "for i in driver.find_elements_by_xpath(\"//p[@class= 'fs-10 font-lightgrey no-wrap city ellipsis']\"):\n",
    "    source.append(i.text.replace(\"/n\",\"new line\"))"
   ]
  },
  {
   "cell_type": "code",
   "execution_count": 187,
   "id": "e2b9bf81",
   "metadata": {},
   "outputs": [
    {
     "data": {
      "text/plain": [
       "196"
      ]
     },
     "execution_count": 187,
     "metadata": {},
     "output_type": "execute_result"
    }
   ],
   "source": [
    "len(source)"
   ]
  },
  {
   "cell_type": "code",
   "execution_count": 184,
   "id": "76b9f0e5",
   "metadata": {},
   "outputs": [
    {
     "data": {
      "text/plain": [
       "98"
      ]
     },
     "execution_count": 184,
     "metadata": {},
     "output_type": "execute_result"
    }
   ],
   "source": [
    "sou = source[::2]\n",
    "len(sou)"
   ]
  },
  {
   "cell_type": "code",
   "execution_count": 186,
   "id": "97c21a6c",
   "metadata": {},
   "outputs": [
    {
     "data": {
      "text/plain": [
       "98"
      ]
     },
     "execution_count": 186,
     "metadata": {},
     "output_type": "execute_result"
    }
   ],
   "source": [
    "dest = source[1::2]\n",
    "len(dest)"
   ]
  },
  {
   "cell_type": "code",
   "execution_count": 188,
   "id": "0c70e088",
   "metadata": {},
   "outputs": [],
   "source": [
    "dep = []\n",
    "for i in driver.find_elements_by_xpath(\"//div[@class= 'i-b pr']\"):\n",
    "    dep.append(i.text.replace(\"/n\",\"new line\"))"
   ]
  },
  {
   "cell_type": "code",
   "execution_count": 190,
   "id": "7ce5e455",
   "metadata": {},
   "outputs": [
    {
     "data": {
      "text/plain": [
       "98"
      ]
     },
     "execution_count": 190,
     "metadata": {},
     "output_type": "execute_result"
    }
   ],
   "source": [
    "len(dep)"
   ]
  },
  {
   "cell_type": "code",
   "execution_count": 191,
   "id": "12ed64f0",
   "metadata": {},
   "outputs": [],
   "source": [
    "arr = []\n",
    "for i in driver.find_elements_by_xpath(\"//p[@class= 'bold fs-15 mb-2 pr time']\"):\n",
    "    arr.append(i.text.replace(\"/n\",\"new line\"))"
   ]
  },
  {
   "cell_type": "code",
   "execution_count": 193,
   "id": "81feb6a9",
   "metadata": {},
   "outputs": [
    {
     "data": {
      "text/plain": [
       "98"
      ]
     },
     "execution_count": 193,
     "metadata": {},
     "output_type": "execute_result"
    }
   ],
   "source": [
    "len(arr)"
   ]
  },
  {
   "cell_type": "code",
   "execution_count": 194,
   "id": "1875a2b1",
   "metadata": {},
   "outputs": [],
   "source": [
    "stops = []\n",
    "for i in driver.find_elements_by_xpath(\"//div[@class= ' font-lightgrey fs-10 tipsy i-b fs-10']\"):\n",
    "    stops.append(i.text.replace(\"/n\",\"new line\"))"
   ]
  },
  {
   "cell_type": "code",
   "execution_count": 196,
   "id": "ee017fcc",
   "metadata": {},
   "outputs": [
    {
     "data": {
      "text/plain": [
       "98"
      ]
     },
     "execution_count": 196,
     "metadata": {},
     "output_type": "execute_result"
    }
   ],
   "source": [
    "len(stops)"
   ]
  },
  {
   "cell_type": "code",
   "execution_count": 197,
   "id": "97f806f9",
   "metadata": {},
   "outputs": [],
   "source": [
    "dur = []\n",
    "for i in driver.find_elements_by_xpath(\"//p[@class= 'fs-12 bold du mb-2']\"):\n",
    "    dur.append(i.text.replace(\"/n\",\"new line\"))"
   ]
  },
  {
   "cell_type": "code",
   "execution_count": 199,
   "id": "d5b5adec",
   "metadata": {},
   "outputs": [
    {
     "data": {
      "text/plain": [
       "98"
      ]
     },
     "execution_count": 199,
     "metadata": {},
     "output_type": "execute_result"
    }
   ],
   "source": [
    "len(dur)"
   ]
  },
  {
   "cell_type": "code",
   "execution_count": 200,
   "id": "953e0b77",
   "metadata": {},
   "outputs": [],
   "source": [
    "price = []\n",
    "for i in driver.find_elements_by_xpath(\"//div[@class= 'i-b tipsy fare-summary-tooltip fs-18']\"):\n",
    "    price.append(i.text.replace(\"/n\",\"new line\"))"
   ]
  },
  {
   "cell_type": "code",
   "execution_count": 202,
   "id": "d5373c26",
   "metadata": {},
   "outputs": [
    {
     "data": {
      "text/plain": [
       "98"
      ]
     },
     "execution_count": 202,
     "metadata": {},
     "output_type": "execute_result"
    }
   ],
   "source": [
    "len(price)"
   ]
  },
  {
   "cell_type": "code",
   "execution_count": 203,
   "id": "96502618",
   "metadata": {},
   "outputs": [],
   "source": [
    "flight12 = pd.DataFrame({\"Airline Name\": name, \"Source\": sou, \"Departure Time\": dep, \"Destination\": dest, \"Arrival Time\": arr,\n",
    "                       \"Stops\": stops, \"Duration\": dur, \"Flight Price\": price})"
   ]
  },
  {
   "cell_type": "code",
   "execution_count": 205,
   "id": "56daed30",
   "metadata": {},
   "outputs": [],
   "source": [
    "flight12 = flight12.to_csv('flight12.csv')"
   ]
  },
  {
   "cell_type": "code",
   "execution_count": 206,
   "id": "859fa5ac",
   "metadata": {},
   "outputs": [],
   "source": [
    "driver.get('https://flight.yatra.com/air-search-ui/dom2/trigger?type=O&viewName=normal&flexi=0&noOfSegments=1&origin=CCU&originCountry=IN&destination=HYD&destinationCountry=IN&flight_depart_date=15%2F03%2F2022&ADT=1&CHD=0&INF=0&class=Economy&source=fresco-home&unqvaldesktop=1364828927013')"
   ]
  },
  {
   "cell_type": "code",
   "execution_count": 207,
   "id": "f58d082f",
   "metadata": {},
   "outputs": [],
   "source": [
    "name = []\n",
    "for i in driver.find_elements_by_xpath(\"//span[@class= 'i-b text ellipsis']\"):\n",
    "    name.append(i.text.replace(\"/n\",\"new line\"))"
   ]
  },
  {
   "cell_type": "code",
   "execution_count": 209,
   "id": "8cf77ea1",
   "metadata": {},
   "outputs": [
    {
     "data": {
      "text/plain": [
       "84"
      ]
     },
     "execution_count": 209,
     "metadata": {},
     "output_type": "execute_result"
    }
   ],
   "source": [
    "len(name)"
   ]
  },
  {
   "cell_type": "code",
   "execution_count": 210,
   "id": "b79dbe47",
   "metadata": {},
   "outputs": [],
   "source": [
    "source = []\n",
    "for i in driver.find_elements_by_xpath(\"//p[@class= 'fs-10 font-lightgrey no-wrap city ellipsis']\"):\n",
    "    source.append(i.text.replace(\"/n\",\"new line\"))"
   ]
  },
  {
   "cell_type": "code",
   "execution_count": 216,
   "id": "a3b92697",
   "metadata": {},
   "outputs": [
    {
     "data": {
      "text/plain": [
       "168"
      ]
     },
     "execution_count": 216,
     "metadata": {},
     "output_type": "execute_result"
    }
   ],
   "source": [
    "len(source)"
   ]
  },
  {
   "cell_type": "code",
   "execution_count": 213,
   "id": "55b6d8b8",
   "metadata": {},
   "outputs": [
    {
     "data": {
      "text/plain": [
       "84"
      ]
     },
     "execution_count": 213,
     "metadata": {},
     "output_type": "execute_result"
    }
   ],
   "source": [
    "sou = source[::2]\n",
    "len(sou)"
   ]
  },
  {
   "cell_type": "code",
   "execution_count": 215,
   "id": "d6b5fda1",
   "metadata": {},
   "outputs": [
    {
     "data": {
      "text/plain": [
       "84"
      ]
     },
     "execution_count": 215,
     "metadata": {},
     "output_type": "execute_result"
    }
   ],
   "source": [
    "dest = source[1::2]\n",
    "len(dest)"
   ]
  },
  {
   "cell_type": "code",
   "execution_count": 217,
   "id": "d58ca632",
   "metadata": {},
   "outputs": [],
   "source": [
    "dep = []\n",
    "for i in driver.find_elements_by_xpath(\"//div[@class= 'i-b pr']\"):\n",
    "    dep.append(i.text.replace(\"/n\",\"new line\"))"
   ]
  },
  {
   "cell_type": "code",
   "execution_count": 219,
   "id": "d8a6e31d",
   "metadata": {},
   "outputs": [
    {
     "data": {
      "text/plain": [
       "84"
      ]
     },
     "execution_count": 219,
     "metadata": {},
     "output_type": "execute_result"
    }
   ],
   "source": [
    "len(dep)"
   ]
  },
  {
   "cell_type": "code",
   "execution_count": 220,
   "id": "a18f327e",
   "metadata": {},
   "outputs": [],
   "source": [
    "arr = []\n",
    "for i in driver.find_elements_by_xpath(\"//p[@class= 'bold fs-15 mb-2 pr time']\"):\n",
    "    arr.append(i.text.replace(\"/n\",\"new line\"))"
   ]
  },
  {
   "cell_type": "code",
   "execution_count": 222,
   "id": "43f74972",
   "metadata": {},
   "outputs": [
    {
     "data": {
      "text/plain": [
       "84"
      ]
     },
     "execution_count": 222,
     "metadata": {},
     "output_type": "execute_result"
    }
   ],
   "source": [
    "len(arr)"
   ]
  },
  {
   "cell_type": "code",
   "execution_count": 223,
   "id": "8f966248",
   "metadata": {},
   "outputs": [],
   "source": [
    "stops = []\n",
    "for i in driver.find_elements_by_xpath(\"//div[@class= ' font-lightgrey fs-10 tipsy i-b fs-10']\"):\n",
    "    stops.append(i.text.replace(\"/n\",\"new line\"))"
   ]
  },
  {
   "cell_type": "code",
   "execution_count": 225,
   "id": "668fcd9e",
   "metadata": {},
   "outputs": [
    {
     "data": {
      "text/plain": [
       "84"
      ]
     },
     "execution_count": 225,
     "metadata": {},
     "output_type": "execute_result"
    }
   ],
   "source": [
    "len(stops)"
   ]
  },
  {
   "cell_type": "code",
   "execution_count": 226,
   "id": "be313b2e",
   "metadata": {},
   "outputs": [],
   "source": [
    "dur = []\n",
    "for i in driver.find_elements_by_xpath(\"//p[@class= 'fs-12 bold du mb-2']\"):\n",
    "    dur.append(i.text.replace(\"/n\",\"new line\"))"
   ]
  },
  {
   "cell_type": "code",
   "execution_count": 228,
   "id": "7b59517f",
   "metadata": {},
   "outputs": [
    {
     "data": {
      "text/plain": [
       "84"
      ]
     },
     "execution_count": 228,
     "metadata": {},
     "output_type": "execute_result"
    }
   ],
   "source": [
    "len(dur)"
   ]
  },
  {
   "cell_type": "code",
   "execution_count": 229,
   "id": "65216880",
   "metadata": {},
   "outputs": [],
   "source": [
    "price = []\n",
    "for i in driver.find_elements_by_xpath(\"//div[@class= 'i-b tipsy fare-summary-tooltip fs-18']\"):\n",
    "    price.append(i.text.replace(\"/n\",\"new line\"))"
   ]
  },
  {
   "cell_type": "code",
   "execution_count": 231,
   "id": "2b62ffc1",
   "metadata": {},
   "outputs": [
    {
     "data": {
      "text/plain": [
       "84"
      ]
     },
     "execution_count": 231,
     "metadata": {},
     "output_type": "execute_result"
    }
   ],
   "source": [
    "len(price)"
   ]
  },
  {
   "cell_type": "code",
   "execution_count": 232,
   "id": "f379fb19",
   "metadata": {},
   "outputs": [],
   "source": [
    "flight13 = pd.DataFrame({\"Airline Name\": name, \"Source\": sou, \"Departure Time\": dep, \"Destination\": dest, \"Arrival Time\": arr,\n",
    "                       \"Stops\": stops, \"Duration\": dur, \"Flight Price\": price})"
   ]
  },
  {
   "cell_type": "code",
   "execution_count": 234,
   "id": "76cfa5a3",
   "metadata": {},
   "outputs": [],
   "source": [
    "flight13 = flight13.to_csv('flight13.csv')"
   ]
  },
  {
   "cell_type": "code",
   "execution_count": 235,
   "id": "c074231e",
   "metadata": {},
   "outputs": [],
   "source": [
    "a = pd.read_csv('flight1.csv')"
   ]
  },
  {
   "cell_type": "code",
   "execution_count": 236,
   "id": "7247680e",
   "metadata": {},
   "outputs": [],
   "source": [
    "b = pd.read_csv('flight2.csv')"
   ]
  },
  {
   "cell_type": "code",
   "execution_count": 237,
   "id": "904bac47",
   "metadata": {},
   "outputs": [],
   "source": [
    "c = pd.read_csv('flight3.csv')"
   ]
  },
  {
   "cell_type": "code",
   "execution_count": 238,
   "id": "6ce31674",
   "metadata": {},
   "outputs": [],
   "source": [
    "d = pd.read_csv('flight4.csv')"
   ]
  },
  {
   "cell_type": "code",
   "execution_count": 239,
   "id": "c71c07b8",
   "metadata": {},
   "outputs": [],
   "source": [
    "e = pd.read_csv('flight5.csv')"
   ]
  },
  {
   "cell_type": "code",
   "execution_count": 240,
   "id": "e239f1e9",
   "metadata": {},
   "outputs": [],
   "source": [
    "f = pd.read_csv('flight6.csv')"
   ]
  },
  {
   "cell_type": "code",
   "execution_count": 241,
   "id": "dabf5c04",
   "metadata": {},
   "outputs": [],
   "source": [
    "g = pd.read_csv('flight7.csv')"
   ]
  },
  {
   "cell_type": "code",
   "execution_count": 242,
   "id": "eed25928",
   "metadata": {},
   "outputs": [],
   "source": [
    "h = pd.read_csv('flight8.csv')"
   ]
  },
  {
   "cell_type": "code",
   "execution_count": 243,
   "id": "e34b325e",
   "metadata": {},
   "outputs": [],
   "source": [
    "i = pd.read_csv('flight9.csv')"
   ]
  },
  {
   "cell_type": "code",
   "execution_count": 244,
   "id": "174eca58",
   "metadata": {},
   "outputs": [],
   "source": [
    "j = pd.read_csv('flight10.csv')"
   ]
  },
  {
   "cell_type": "code",
   "execution_count": 245,
   "id": "80dca490",
   "metadata": {},
   "outputs": [],
   "source": [
    "k = pd.read_csv('flight11.csv')"
   ]
  },
  {
   "cell_type": "code",
   "execution_count": 246,
   "id": "807abcfc",
   "metadata": {},
   "outputs": [],
   "source": [
    "l = pd.read_csv('flight12.csv')"
   ]
  },
  {
   "cell_type": "code",
   "execution_count": 247,
   "id": "bee54f3a",
   "metadata": {},
   "outputs": [],
   "source": [
    "m = pd.read_csv('flight13.csv')"
   ]
  },
  {
   "cell_type": "code",
   "execution_count": 248,
   "id": "d99da718",
   "metadata": {},
   "outputs": [],
   "source": [
    "flight_price = pd.concat([a,b,c,d,e,f,g,h,i,j,k,l,m], axis= 0)"
   ]
  },
  {
   "cell_type": "code",
   "execution_count": 253,
   "id": "950833a6",
   "metadata": {},
   "outputs": [],
   "source": [
    "flight_price = flight_price.reset_index()"
   ]
  },
  {
   "cell_type": "code",
   "execution_count": 255,
   "id": "47c9778d",
   "metadata": {},
   "outputs": [],
   "source": [
    "flight_price.drop(['index','Unnamed: 0'], axis= 1, inplace= True)"
   ]
  },
  {
   "cell_type": "code",
   "execution_count": 257,
   "id": "3e93cd41",
   "metadata": {},
   "outputs": [],
   "source": [
    "flight_price = flight_price.to_csv('flight_price.csv')"
   ]
  },
  {
   "cell_type": "code",
   "execution_count": null,
   "id": "035e2518",
   "metadata": {},
   "outputs": [],
   "source": []
  }
 ],
 "metadata": {
  "kernelspec": {
   "display_name": "Python 3 (ipykernel)",
   "language": "python",
   "name": "python3"
  },
  "language_info": {
   "codemirror_mode": {
    "name": "ipython",
    "version": 3
   },
   "file_extension": ".py",
   "mimetype": "text/x-python",
   "name": "python",
   "nbconvert_exporter": "python",
   "pygments_lexer": "ipython3",
   "version": "3.9.7"
  }
 },
 "nbformat": 4,
 "nbformat_minor": 5
}
